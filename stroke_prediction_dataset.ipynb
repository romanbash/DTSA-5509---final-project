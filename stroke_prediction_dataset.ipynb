{
  "nbformat": 4,
  "nbformat_minor": 0,
  "metadata": {
    "colab": {
      "provenance": [],
      "toc_visible": true,
      "authorship_tag": "ABX9TyMwORfHrwvYNeZemqu6Y1Bf",
      "include_colab_link": true
    },
    "kernelspec": {
      "name": "python3",
      "display_name": "Python 3"
    },
    "language_info": {
      "name": "python"
    }
  },
  "cells": [
    {
      "cell_type": "markdown",
      "metadata": {
        "id": "view-in-github",
        "colab_type": "text"
      },
      "source": [
        "<a href=\"https://colab.research.google.com/github/romanbash/DTSA-5509---final-project/blob/main/stroke_prediction_dataset.ipynb\" target=\"_parent\"><img src=\"https://colab.research.google.com/assets/colab-badge.svg\" alt=\"Open In Colab\"/></a>"
      ]
    },
    {
      "cell_type": "markdown",
      "source": [
        "# Topic\n",
        "\n",
        "In the project, we will try to predict **strokes** by using data that can be easily measured and obtained from the sample participants.\n",
        "The problem (the **goal** of this exercise) we will try to solve is *predicting in advance which patients have a greater chance of having a stroke*. We aim to reduce this chance in advance through a healthier life span, preventive treatment, and closer follow-up.\n",
        "We will do this by analyzing stroke information—that is, we will solve the problem using **supervised learning**. In the research process, we will use Different algorithms are linear regression, isolation forest (unsupervised), random forest, and SVM.\n",
        "The task is of *binary classification* type - stroke or not stroke."
      ],
      "metadata": {
        "id": "vtj90d5-xzOd"
      }
    },
    {
      "cell_type": "code",
      "execution_count": 1,
      "metadata": {
        "id": "TD13doLdeQhm",
        "colab": {
          "base_uri": "https://localhost:8080/"
        },
        "outputId": "d534996f-3192-47dc-badf-f8d89d75eadf"
      },
      "outputs": [
        {
          "output_type": "stream",
          "name": "stdout",
          "text": [
            "Requirement already satisfied: pandas in /usr/local/lib/python3.10/dist-packages (2.0.3)\n",
            "Requirement already satisfied: scikit-learn in /usr/local/lib/python3.10/dist-packages (1.2.2)\n",
            "Requirement already satisfied: imbalanced-learn in /usr/local/lib/python3.10/dist-packages (0.10.1)\n",
            "Requirement already satisfied: python-dateutil>=2.8.2 in /usr/local/lib/python3.10/dist-packages (from pandas) (2.8.2)\n",
            "Requirement already satisfied: pytz>=2020.1 in /usr/local/lib/python3.10/dist-packages (from pandas) (2023.4)\n",
            "Requirement already satisfied: tzdata>=2022.1 in /usr/local/lib/python3.10/dist-packages (from pandas) (2024.1)\n",
            "Requirement already satisfied: numpy>=1.21.0 in /usr/local/lib/python3.10/dist-packages (from pandas) (1.25.2)\n",
            "Requirement already satisfied: scipy>=1.3.2 in /usr/local/lib/python3.10/dist-packages (from scikit-learn) (1.11.4)\n",
            "Requirement already satisfied: joblib>=1.1.1 in /usr/local/lib/python3.10/dist-packages (from scikit-learn) (1.4.0)\n",
            "Requirement already satisfied: threadpoolctl>=2.0.0 in /usr/local/lib/python3.10/dist-packages (from scikit-learn) (3.4.0)\n",
            "Requirement already satisfied: six>=1.5 in /usr/local/lib/python3.10/dist-packages (from python-dateutil>=2.8.2->pandas) (1.16.0)\n"
          ]
        }
      ],
      "source": [
        "#First we install and import the packages will will use in our project.\n",
        "!pip install pandas scikit-learn imbalanced-learn\n",
        "import pandas as pd\n",
        "import matplotlib.pyplot as plt\n",
        "from scipy.stats import shapiro\n",
        "from sklearn.preprocessing import OneHotEncoder\n",
        "import numpy as np\n",
        "from sklearn.linear_model import LinearRegression\n",
        "from sklearn.ensemble import RandomForestRegressor\n",
        "from sklearn.svm import SVR\n",
        "from sklearn.ensemble import VotingRegressor\n",
        "from sklearn.model_selection import GridSearchCV\n",
        "from sklearn.model_selection import train_test_split\n",
        "from imblearn.over_sampling import ADASYN\n",
        "from sklearn.svm import SVC\n",
        "from sklearn.metrics import accuracy_score, classification_report\n",
        "from sklearn.metrics import roc_auc_score\n",
        "from sklearn.metrics import roc_curve\n",
        "import warnings\n",
        "warnings.filterwarnings('ignore')"
      ]
    },
    {
      "cell_type": "code",
      "source": [
        "# We mount our google drive, where we store our data\n",
        "\n",
        "from google.colab import drive\n",
        "drive.mount('/content/drive')\n",
        "\n",
        "\n",
        "#This is the path for the data in the goggle drive. If you would like to run it\n",
        "#change this line to the path in your drive.\n",
        "\n",
        "data_path = '/content/drive/MyDrive/DTSA 5509 - final project/healthcare-dataset-stroke-data.csv'"
      ],
      "metadata": {
        "colab": {
          "base_uri": "https://localhost:8080/"
        },
        "id": "nq81q4mIemfj",
        "outputId": "7c8f1aea-2d5b-4cbd-9d3b-ceae10a580d3"
      },
      "execution_count": 2,
      "outputs": [
        {
          "output_type": "stream",
          "name": "stdout",
          "text": [
            "Mounted at /content/drive\n"
          ]
        }
      ]
    },
    {
      "cell_type": "markdown",
      "source": [
        "# Data\n",
        "\n",
        "###Context - taken for Kaggle\n",
        "According to the World Health Organization (WHO), stroke is the 2nd leading cause of death globally, responsible for approximately 11% of total deaths.\n",
        "This dataset is used to predict whether a patient is likely to get a stroke based on input parameters like gender, age, various diseases, and smoking status. Each row in the data provides relevant information about the patient.\n",
        "\n",
        "### Number of features/columns: 5110 rows and 12 columns.\n",
        "\n",
        "### Size: 310 Kb\n",
        "\n",
        "\n",
        "\n",
        "###Attribute Information\n",
        "1) **id**: unique identifier\n",
        "\n",
        "2) **gender**: \"Male\", \"Female\" or \"Other\"\n",
        "\n",
        "3) **age**: age of the patient\n",
        "\n",
        "4) **hypertension**: 0 if the patient doesn't have hypertension, 1 if the patient has hypertension\n",
        "\n",
        "5) **heart_disease**: 0 if the patient doesn't have any heart diseases, 1 if the patient has a heart disease\n",
        "\n",
        "6) **ever_married**: \"No\" or \"Yes\"\n",
        "\n",
        "7) **work_type**: \"children\", \"Govt_jov\", \"Never_worked\", \"Private\" or \"Self-employed\"\n",
        "\n",
        "8) **Residence_type**: \"Rural\" or \"Urban\"\n",
        "\n",
        "9) **avg_glucose_level**: average glucose level in blood\n",
        "\n",
        "10) **bmi**: body mass index\n",
        "\n",
        "11) **smoking_status**: \"formerly smoked\", \"never smoked\", \"smokes\" or \"Unknown\"*\n",
        "\n",
        "12) **stroke**: 1 if the patient had a stroke or 0 if not\n",
        "\n",
        "*Note*: \"Unknown\" in smoking_status means that the information is unavailable for this patient\n",
        "\n",
        "\n",
        "**Kaggle URL**: https://www.kaggle.com/datasets/fedesoriano/stroke-prediction-dataset/data\n",
        "\n",
        "**Download data**: https://www.kaggle.com/datasets/fedesoriano/stroke-prediction-dataset/download?datasetVersionNumber=1\n",
        "\n"
      ],
      "metadata": {
        "id": "VxmELjFsU_JE"
      }
    },
    {
      "cell_type": "code",
      "source": [
        "# read csv to data frame\n",
        "df = pd.read_csv(data_path)\n"
      ],
      "metadata": {
        "id": "qn7coj24ez53"
      },
      "execution_count": 24,
      "outputs": []
    },
    {
      "cell_type": "code",
      "source": [
        "# Show the head of the df, to see that looks good\n",
        "df.head()"
      ],
      "metadata": {
        "colab": {
          "base_uri": "https://localhost:8080/",
          "height": 261
        },
        "id": "6T9-_ZK1bHfh",
        "outputId": "4c8e5608-309b-47c2-aafc-0c6b7e9444d3"
      },
      "execution_count": 4,
      "outputs": [
        {
          "output_type": "execute_result",
          "data": {
            "text/plain": [
              "      id  gender   age  hypertension  heart_disease ever_married  \\\n",
              "0   9046    Male  67.0             0              1          Yes   \n",
              "1  51676  Female  61.0             0              0          Yes   \n",
              "2  31112    Male  80.0             0              1          Yes   \n",
              "3  60182  Female  49.0             0              0          Yes   \n",
              "4   1665  Female  79.0             1              0          Yes   \n",
              "\n",
              "       work_type Residence_type  avg_glucose_level   bmi   smoking_status  \\\n",
              "0        Private          Urban             228.69  36.6  formerly smoked   \n",
              "1  Self-employed          Rural             202.21   NaN     never smoked   \n",
              "2        Private          Rural             105.92  32.5     never smoked   \n",
              "3        Private          Urban             171.23  34.4           smokes   \n",
              "4  Self-employed          Rural             174.12  24.0     never smoked   \n",
              "\n",
              "   stroke  \n",
              "0       1  \n",
              "1       1  \n",
              "2       1  \n",
              "3       1  \n",
              "4       1  "
            ],
            "text/html": [
              "\n",
              "  <div id=\"df-8ece32da-9822-4fa0-b6f3-1116113f3b79\" class=\"colab-df-container\">\n",
              "    <div>\n",
              "<style scoped>\n",
              "    .dataframe tbody tr th:only-of-type {\n",
              "        vertical-align: middle;\n",
              "    }\n",
              "\n",
              "    .dataframe tbody tr th {\n",
              "        vertical-align: top;\n",
              "    }\n",
              "\n",
              "    .dataframe thead th {\n",
              "        text-align: right;\n",
              "    }\n",
              "</style>\n",
              "<table border=\"1\" class=\"dataframe\">\n",
              "  <thead>\n",
              "    <tr style=\"text-align: right;\">\n",
              "      <th></th>\n",
              "      <th>id</th>\n",
              "      <th>gender</th>\n",
              "      <th>age</th>\n",
              "      <th>hypertension</th>\n",
              "      <th>heart_disease</th>\n",
              "      <th>ever_married</th>\n",
              "      <th>work_type</th>\n",
              "      <th>Residence_type</th>\n",
              "      <th>avg_glucose_level</th>\n",
              "      <th>bmi</th>\n",
              "      <th>smoking_status</th>\n",
              "      <th>stroke</th>\n",
              "    </tr>\n",
              "  </thead>\n",
              "  <tbody>\n",
              "    <tr>\n",
              "      <th>0</th>\n",
              "      <td>9046</td>\n",
              "      <td>Male</td>\n",
              "      <td>67.0</td>\n",
              "      <td>0</td>\n",
              "      <td>1</td>\n",
              "      <td>Yes</td>\n",
              "      <td>Private</td>\n",
              "      <td>Urban</td>\n",
              "      <td>228.69</td>\n",
              "      <td>36.6</td>\n",
              "      <td>formerly smoked</td>\n",
              "      <td>1</td>\n",
              "    </tr>\n",
              "    <tr>\n",
              "      <th>1</th>\n",
              "      <td>51676</td>\n",
              "      <td>Female</td>\n",
              "      <td>61.0</td>\n",
              "      <td>0</td>\n",
              "      <td>0</td>\n",
              "      <td>Yes</td>\n",
              "      <td>Self-employed</td>\n",
              "      <td>Rural</td>\n",
              "      <td>202.21</td>\n",
              "      <td>NaN</td>\n",
              "      <td>never smoked</td>\n",
              "      <td>1</td>\n",
              "    </tr>\n",
              "    <tr>\n",
              "      <th>2</th>\n",
              "      <td>31112</td>\n",
              "      <td>Male</td>\n",
              "      <td>80.0</td>\n",
              "      <td>0</td>\n",
              "      <td>1</td>\n",
              "      <td>Yes</td>\n",
              "      <td>Private</td>\n",
              "      <td>Rural</td>\n",
              "      <td>105.92</td>\n",
              "      <td>32.5</td>\n",
              "      <td>never smoked</td>\n",
              "      <td>1</td>\n",
              "    </tr>\n",
              "    <tr>\n",
              "      <th>3</th>\n",
              "      <td>60182</td>\n",
              "      <td>Female</td>\n",
              "      <td>49.0</td>\n",
              "      <td>0</td>\n",
              "      <td>0</td>\n",
              "      <td>Yes</td>\n",
              "      <td>Private</td>\n",
              "      <td>Urban</td>\n",
              "      <td>171.23</td>\n",
              "      <td>34.4</td>\n",
              "      <td>smokes</td>\n",
              "      <td>1</td>\n",
              "    </tr>\n",
              "    <tr>\n",
              "      <th>4</th>\n",
              "      <td>1665</td>\n",
              "      <td>Female</td>\n",
              "      <td>79.0</td>\n",
              "      <td>1</td>\n",
              "      <td>0</td>\n",
              "      <td>Yes</td>\n",
              "      <td>Self-employed</td>\n",
              "      <td>Rural</td>\n",
              "      <td>174.12</td>\n",
              "      <td>24.0</td>\n",
              "      <td>never smoked</td>\n",
              "      <td>1</td>\n",
              "    </tr>\n",
              "  </tbody>\n",
              "</table>\n",
              "</div>\n",
              "    <div class=\"colab-df-buttons\">\n",
              "\n",
              "  <div class=\"colab-df-container\">\n",
              "    <button class=\"colab-df-convert\" onclick=\"convertToInteractive('df-8ece32da-9822-4fa0-b6f3-1116113f3b79')\"\n",
              "            title=\"Convert this dataframe to an interactive table.\"\n",
              "            style=\"display:none;\">\n",
              "\n",
              "  <svg xmlns=\"http://www.w3.org/2000/svg\" height=\"24px\" viewBox=\"0 -960 960 960\">\n",
              "    <path d=\"M120-120v-720h720v720H120Zm60-500h600v-160H180v160Zm220 220h160v-160H400v160Zm0 220h160v-160H400v160ZM180-400h160v-160H180v160Zm440 0h160v-160H620v160ZM180-180h160v-160H180v160Zm440 0h160v-160H620v160Z\"/>\n",
              "  </svg>\n",
              "    </button>\n",
              "\n",
              "  <style>\n",
              "    .colab-df-container {\n",
              "      display:flex;\n",
              "      gap: 12px;\n",
              "    }\n",
              "\n",
              "    .colab-df-convert {\n",
              "      background-color: #E8F0FE;\n",
              "      border: none;\n",
              "      border-radius: 50%;\n",
              "      cursor: pointer;\n",
              "      display: none;\n",
              "      fill: #1967D2;\n",
              "      height: 32px;\n",
              "      padding: 0 0 0 0;\n",
              "      width: 32px;\n",
              "    }\n",
              "\n",
              "    .colab-df-convert:hover {\n",
              "      background-color: #E2EBFA;\n",
              "      box-shadow: 0px 1px 2px rgba(60, 64, 67, 0.3), 0px 1px 3px 1px rgba(60, 64, 67, 0.15);\n",
              "      fill: #174EA6;\n",
              "    }\n",
              "\n",
              "    .colab-df-buttons div {\n",
              "      margin-bottom: 4px;\n",
              "    }\n",
              "\n",
              "    [theme=dark] .colab-df-convert {\n",
              "      background-color: #3B4455;\n",
              "      fill: #D2E3FC;\n",
              "    }\n",
              "\n",
              "    [theme=dark] .colab-df-convert:hover {\n",
              "      background-color: #434B5C;\n",
              "      box-shadow: 0px 1px 3px 1px rgba(0, 0, 0, 0.15);\n",
              "      filter: drop-shadow(0px 1px 2px rgba(0, 0, 0, 0.3));\n",
              "      fill: #FFFFFF;\n",
              "    }\n",
              "  </style>\n",
              "\n",
              "    <script>\n",
              "      const buttonEl =\n",
              "        document.querySelector('#df-8ece32da-9822-4fa0-b6f3-1116113f3b79 button.colab-df-convert');\n",
              "      buttonEl.style.display =\n",
              "        google.colab.kernel.accessAllowed ? 'block' : 'none';\n",
              "\n",
              "      async function convertToInteractive(key) {\n",
              "        const element = document.querySelector('#df-8ece32da-9822-4fa0-b6f3-1116113f3b79');\n",
              "        const dataTable =\n",
              "          await google.colab.kernel.invokeFunction('convertToInteractive',\n",
              "                                                    [key], {});\n",
              "        if (!dataTable) return;\n",
              "\n",
              "        const docLinkHtml = 'Like what you see? Visit the ' +\n",
              "          '<a target=\"_blank\" href=https://colab.research.google.com/notebooks/data_table.ipynb>data table notebook</a>'\n",
              "          + ' to learn more about interactive tables.';\n",
              "        element.innerHTML = '';\n",
              "        dataTable['output_type'] = 'display_data';\n",
              "        await google.colab.output.renderOutput(dataTable, element);\n",
              "        const docLink = document.createElement('div');\n",
              "        docLink.innerHTML = docLinkHtml;\n",
              "        element.appendChild(docLink);\n",
              "      }\n",
              "    </script>\n",
              "  </div>\n",
              "\n",
              "\n",
              "<div id=\"df-4e8ebc8c-ab01-496f-a947-f2453c8b8893\">\n",
              "  <button class=\"colab-df-quickchart\" onclick=\"quickchart('df-4e8ebc8c-ab01-496f-a947-f2453c8b8893')\"\n",
              "            title=\"Suggest charts\"\n",
              "            style=\"display:none;\">\n",
              "\n",
              "<svg xmlns=\"http://www.w3.org/2000/svg\" height=\"24px\"viewBox=\"0 0 24 24\"\n",
              "     width=\"24px\">\n",
              "    <g>\n",
              "        <path d=\"M19 3H5c-1.1 0-2 .9-2 2v14c0 1.1.9 2 2 2h14c1.1 0 2-.9 2-2V5c0-1.1-.9-2-2-2zM9 17H7v-7h2v7zm4 0h-2V7h2v10zm4 0h-2v-4h2v4z\"/>\n",
              "    </g>\n",
              "</svg>\n",
              "  </button>\n",
              "\n",
              "<style>\n",
              "  .colab-df-quickchart {\n",
              "      --bg-color: #E8F0FE;\n",
              "      --fill-color: #1967D2;\n",
              "      --hover-bg-color: #E2EBFA;\n",
              "      --hover-fill-color: #174EA6;\n",
              "      --disabled-fill-color: #AAA;\n",
              "      --disabled-bg-color: #DDD;\n",
              "  }\n",
              "\n",
              "  [theme=dark] .colab-df-quickchart {\n",
              "      --bg-color: #3B4455;\n",
              "      --fill-color: #D2E3FC;\n",
              "      --hover-bg-color: #434B5C;\n",
              "      --hover-fill-color: #FFFFFF;\n",
              "      --disabled-bg-color: #3B4455;\n",
              "      --disabled-fill-color: #666;\n",
              "  }\n",
              "\n",
              "  .colab-df-quickchart {\n",
              "    background-color: var(--bg-color);\n",
              "    border: none;\n",
              "    border-radius: 50%;\n",
              "    cursor: pointer;\n",
              "    display: none;\n",
              "    fill: var(--fill-color);\n",
              "    height: 32px;\n",
              "    padding: 0;\n",
              "    width: 32px;\n",
              "  }\n",
              "\n",
              "  .colab-df-quickchart:hover {\n",
              "    background-color: var(--hover-bg-color);\n",
              "    box-shadow: 0 1px 2px rgba(60, 64, 67, 0.3), 0 1px 3px 1px rgba(60, 64, 67, 0.15);\n",
              "    fill: var(--button-hover-fill-color);\n",
              "  }\n",
              "\n",
              "  .colab-df-quickchart-complete:disabled,\n",
              "  .colab-df-quickchart-complete:disabled:hover {\n",
              "    background-color: var(--disabled-bg-color);\n",
              "    fill: var(--disabled-fill-color);\n",
              "    box-shadow: none;\n",
              "  }\n",
              "\n",
              "  .colab-df-spinner {\n",
              "    border: 2px solid var(--fill-color);\n",
              "    border-color: transparent;\n",
              "    border-bottom-color: var(--fill-color);\n",
              "    animation:\n",
              "      spin 1s steps(1) infinite;\n",
              "  }\n",
              "\n",
              "  @keyframes spin {\n",
              "    0% {\n",
              "      border-color: transparent;\n",
              "      border-bottom-color: var(--fill-color);\n",
              "      border-left-color: var(--fill-color);\n",
              "    }\n",
              "    20% {\n",
              "      border-color: transparent;\n",
              "      border-left-color: var(--fill-color);\n",
              "      border-top-color: var(--fill-color);\n",
              "    }\n",
              "    30% {\n",
              "      border-color: transparent;\n",
              "      border-left-color: var(--fill-color);\n",
              "      border-top-color: var(--fill-color);\n",
              "      border-right-color: var(--fill-color);\n",
              "    }\n",
              "    40% {\n",
              "      border-color: transparent;\n",
              "      border-right-color: var(--fill-color);\n",
              "      border-top-color: var(--fill-color);\n",
              "    }\n",
              "    60% {\n",
              "      border-color: transparent;\n",
              "      border-right-color: var(--fill-color);\n",
              "    }\n",
              "    80% {\n",
              "      border-color: transparent;\n",
              "      border-right-color: var(--fill-color);\n",
              "      border-bottom-color: var(--fill-color);\n",
              "    }\n",
              "    90% {\n",
              "      border-color: transparent;\n",
              "      border-bottom-color: var(--fill-color);\n",
              "    }\n",
              "  }\n",
              "</style>\n",
              "\n",
              "  <script>\n",
              "    async function quickchart(key) {\n",
              "      const quickchartButtonEl =\n",
              "        document.querySelector('#' + key + ' button');\n",
              "      quickchartButtonEl.disabled = true;  // To prevent multiple clicks.\n",
              "      quickchartButtonEl.classList.add('colab-df-spinner');\n",
              "      try {\n",
              "        const charts = await google.colab.kernel.invokeFunction(\n",
              "            'suggestCharts', [key], {});\n",
              "      } catch (error) {\n",
              "        console.error('Error during call to suggestCharts:', error);\n",
              "      }\n",
              "      quickchartButtonEl.classList.remove('colab-df-spinner');\n",
              "      quickchartButtonEl.classList.add('colab-df-quickchart-complete');\n",
              "    }\n",
              "    (() => {\n",
              "      let quickchartButtonEl =\n",
              "        document.querySelector('#df-4e8ebc8c-ab01-496f-a947-f2453c8b8893 button');\n",
              "      quickchartButtonEl.style.display =\n",
              "        google.colab.kernel.accessAllowed ? 'block' : 'none';\n",
              "    })();\n",
              "  </script>\n",
              "</div>\n",
              "\n",
              "    </div>\n",
              "  </div>\n"
            ],
            "application/vnd.google.colaboratory.intrinsic+json": {
              "type": "dataframe",
              "variable_name": "df",
              "summary": "{\n  \"name\": \"df\",\n  \"rows\": 5110,\n  \"fields\": [\n    {\n      \"column\": \"id\",\n      \"properties\": {\n        \"dtype\": \"number\",\n        \"std\": 21161,\n        \"min\": 67,\n        \"max\": 72940,\n        \"num_unique_values\": 5110,\n        \"samples\": [\n          40041,\n          55244,\n          70992\n        ],\n        \"semantic_type\": \"\",\n        \"description\": \"\"\n      }\n    },\n    {\n      \"column\": \"gender\",\n      \"properties\": {\n        \"dtype\": \"category\",\n        \"num_unique_values\": 3,\n        \"samples\": [\n          \"Male\",\n          \"Female\",\n          \"Other\"\n        ],\n        \"semantic_type\": \"\",\n        \"description\": \"\"\n      }\n    },\n    {\n      \"column\": \"age\",\n      \"properties\": {\n        \"dtype\": \"number\",\n        \"std\": 22.61264672311349,\n        \"min\": 0.08,\n        \"max\": 82.0,\n        \"num_unique_values\": 104,\n        \"samples\": [\n          45.0,\n          24.0,\n          33.0\n        ],\n        \"semantic_type\": \"\",\n        \"description\": \"\"\n      }\n    },\n    {\n      \"column\": \"hypertension\",\n      \"properties\": {\n        \"dtype\": \"number\",\n        \"std\": 0,\n        \"min\": 0,\n        \"max\": 1,\n        \"num_unique_values\": 2,\n        \"samples\": [\n          1,\n          0\n        ],\n        \"semantic_type\": \"\",\n        \"description\": \"\"\n      }\n    },\n    {\n      \"column\": \"heart_disease\",\n      \"properties\": {\n        \"dtype\": \"number\",\n        \"std\": 0,\n        \"min\": 0,\n        \"max\": 1,\n        \"num_unique_values\": 2,\n        \"samples\": [\n          0,\n          1\n        ],\n        \"semantic_type\": \"\",\n        \"description\": \"\"\n      }\n    },\n    {\n      \"column\": \"ever_married\",\n      \"properties\": {\n        \"dtype\": \"category\",\n        \"num_unique_values\": 2,\n        \"samples\": [\n          \"No\",\n          \"Yes\"\n        ],\n        \"semantic_type\": \"\",\n        \"description\": \"\"\n      }\n    },\n    {\n      \"column\": \"work_type\",\n      \"properties\": {\n        \"dtype\": \"category\",\n        \"num_unique_values\": 5,\n        \"samples\": [\n          \"Self-employed\",\n          \"Never_worked\"\n        ],\n        \"semantic_type\": \"\",\n        \"description\": \"\"\n      }\n    },\n    {\n      \"column\": \"Residence_type\",\n      \"properties\": {\n        \"dtype\": \"category\",\n        \"num_unique_values\": 2,\n        \"samples\": [\n          \"Rural\",\n          \"Urban\"\n        ],\n        \"semantic_type\": \"\",\n        \"description\": \"\"\n      }\n    },\n    {\n      \"column\": \"avg_glucose_level\",\n      \"properties\": {\n        \"dtype\": \"number\",\n        \"std\": 45.28356015058198,\n        \"min\": 55.12,\n        \"max\": 271.74,\n        \"num_unique_values\": 3979,\n        \"samples\": [\n          178.29,\n          156.69\n        ],\n        \"semantic_type\": \"\",\n        \"description\": \"\"\n      }\n    },\n    {\n      \"column\": \"bmi\",\n      \"properties\": {\n        \"dtype\": \"number\",\n        \"std\": 7.854066729680164,\n        \"min\": 10.3,\n        \"max\": 97.6,\n        \"num_unique_values\": 418,\n        \"samples\": [\n          49.5,\n          18.5\n        ],\n        \"semantic_type\": \"\",\n        \"description\": \"\"\n      }\n    },\n    {\n      \"column\": \"smoking_status\",\n      \"properties\": {\n        \"dtype\": \"category\",\n        \"num_unique_values\": 4,\n        \"samples\": [\n          \"never smoked\",\n          \"Unknown\"\n        ],\n        \"semantic_type\": \"\",\n        \"description\": \"\"\n      }\n    },\n    {\n      \"column\": \"stroke\",\n      \"properties\": {\n        \"dtype\": \"number\",\n        \"std\": 0,\n        \"min\": 0,\n        \"max\": 1,\n        \"num_unique_values\": 2,\n        \"samples\": [\n          0,\n          1\n        ],\n        \"semantic_type\": \"\",\n        \"description\": \"\"\n      }\n    }\n  ]\n}"
            }
          },
          "metadata": {},
          "execution_count": 4
        }
      ]
    },
    {
      "cell_type": "code",
      "source": [
        "# See if the shape fits the csv.\n",
        "df.shape"
      ],
      "metadata": {
        "colab": {
          "base_uri": "https://localhost:8080/"
        },
        "id": "eA-Yj2UZbgF8",
        "outputId": "117b2fd6-2f66-48c4-f946-008a69171b12"
      },
      "execution_count": 5,
      "outputs": [
        {
          "output_type": "execute_result",
          "data": {
            "text/plain": [
              "(5110, 12)"
            ]
          },
          "metadata": {},
          "execution_count": 5
        }
      ]
    },
    {
      "cell_type": "markdown",
      "source": [
        "The columns of our data are:"
      ],
      "metadata": {
        "id": "QphquthVc33C"
      }
    },
    {
      "cell_type": "code",
      "source": [
        "df.columns"
      ],
      "metadata": {
        "colab": {
          "base_uri": "https://localhost:8080/"
        },
        "id": "gMgq1yysc_o-",
        "outputId": "4b3c945e-89e3-464e-9f60-8239f93a5066"
      },
      "execution_count": 6,
      "outputs": [
        {
          "output_type": "execute_result",
          "data": {
            "text/plain": [
              "Index(['id', 'gender', 'age', 'hypertension', 'heart_disease', 'ever_married',\n",
              "       'work_type', 'Residence_type', 'avg_glucose_level', 'bmi',\n",
              "       'smoking_status', 'stroke'],\n",
              "      dtype='object')"
            ]
          },
          "metadata": {},
          "execution_count": 6
        }
      ]
    },
    {
      "cell_type": "markdown",
      "source": [
        "So we have 5100 entries and 12 columns - 11 optional features and the label column - *stroke*."
      ],
      "metadata": {
        "id": "Srvv51AcblrC"
      }
    },
    {
      "cell_type": "code",
      "source": [
        "df.info()"
      ],
      "metadata": {
        "colab": {
          "base_uri": "https://localhost:8080/"
        },
        "id": "BkF5F5nBhPZG",
        "outputId": "824d58d8-b665-4ce7-afcd-d3940039807e"
      },
      "execution_count": 7,
      "outputs": [
        {
          "output_type": "stream",
          "name": "stdout",
          "text": [
            "<class 'pandas.core.frame.DataFrame'>\n",
            "RangeIndex: 5110 entries, 0 to 5109\n",
            "Data columns (total 12 columns):\n",
            " #   Column             Non-Null Count  Dtype  \n",
            "---  ------             --------------  -----  \n",
            " 0   id                 5110 non-null   int64  \n",
            " 1   gender             5110 non-null   object \n",
            " 2   age                5110 non-null   float64\n",
            " 3   hypertension       5110 non-null   int64  \n",
            " 4   heart_disease      5110 non-null   int64  \n",
            " 5   ever_married       5110 non-null   object \n",
            " 6   work_type          5110 non-null   object \n",
            " 7   Residence_type     5110 non-null   object \n",
            " 8   avg_glucose_level  5110 non-null   float64\n",
            " 9   bmi                4909 non-null   float64\n",
            " 10  smoking_status     5110 non-null   object \n",
            " 11  stroke             5110 non-null   int64  \n",
            "dtypes: float64(3), int64(4), object(5)\n",
            "memory usage: 479.2+ KB\n"
          ]
        }
      ]
    },
    {
      "cell_type": "markdown",
      "source": [
        "# Data Cleaning"
      ],
      "metadata": {
        "id": "Rz29n6QZY5Da"
      }
    },
    {
      "cell_type": "markdown",
      "source": [
        "The only column that is not relevant for now is the ID column. It can not be a valuable feature because it is just a random number that does not contain any information. We should remove it."
      ],
      "metadata": {
        "id": "klr7WYLRQ63o"
      }
    },
    {
      "cell_type": "code",
      "source": [
        "# drop id column\n",
        "df.drop('id', axis=1, inplace=True)"
      ],
      "metadata": {
        "id": "rrTCKCY9Q5Zy"
      },
      "execution_count": 8,
      "outputs": []
    },
    {
      "cell_type": "markdown",
      "source": [
        "Let's check if we have duplicate rows."
      ],
      "metadata": {
        "id": "dnE5KeT1hYeM"
      }
    },
    {
      "cell_type": "code",
      "source": [
        "#check for duplicates\n",
        "df.duplicated().sum()"
      ],
      "metadata": {
        "colab": {
          "base_uri": "https://localhost:8080/"
        },
        "id": "w_UpIH8mhdkl",
        "outputId": "7885d187-4e34-41a4-960f-825a6806de6b"
      },
      "execution_count": 9,
      "outputs": [
        {
          "output_type": "execute_result",
          "data": {
            "text/plain": [
              "0"
            ]
          },
          "metadata": {},
          "execution_count": 9
        }
      ]
    },
    {
      "cell_type": "markdown",
      "source": [
        "We don't have duplicates. let's see if we have missing data."
      ],
      "metadata": {
        "id": "eTJKzNfEhiyR"
      }
    },
    {
      "cell_type": "code",
      "source": [
        "#check for missing data\n",
        "missing_data = df.isnull().sum()\n",
        "# Print the number of missing values in each column\n",
        "print(missing_data)\n"
      ],
      "metadata": {
        "colab": {
          "base_uri": "https://localhost:8080/"
        },
        "id": "cAiZbfWffLws",
        "outputId": "13ebe084-299d-44f7-b369-0891e5907150"
      },
      "execution_count": 10,
      "outputs": [
        {
          "output_type": "stream",
          "name": "stdout",
          "text": [
            "gender                 0\n",
            "age                    0\n",
            "hypertension           0\n",
            "heart_disease          0\n",
            "ever_married           0\n",
            "work_type              0\n",
            "Residence_type         0\n",
            "avg_glucose_level      0\n",
            "bmi                  201\n",
            "smoking_status         0\n",
            "stroke                 0\n",
            "dtype: int64\n"
          ]
        }
      ]
    },
    {
      "cell_type": "code",
      "source": [
        "# Create a scatter plot with varying marker point size and color\n",
        "plt.figure(figsize=(10, 6))  # Adjust the figure size if needed\n",
        "for col in df.columns:\n",
        "    empty_cells = df[col].isnull().sum()\n",
        "    plt.scatter(df.index, [col] * len(df), s=empty_cells * 10, c='red', alpha=0.5)\n",
        "\n",
        "# Customize the plot (add labels, title, etc.)\n",
        "plt.xlabel(\"Row Index\")\n",
        "plt.ylabel(\"Column Name\")\n",
        "plt.title(\"Empty Values in DataFrame\")\n",
        "\n",
        "# Show the plot\n",
        "plt.show()"
      ],
      "metadata": {
        "colab": {
          "base_uri": "https://localhost:8080/",
          "height": 541
        },
        "id": "RxN5BCvbV2CO",
        "outputId": "41001c12-04a0-45c6-8e43-1d7f0b4ab187"
      },
      "execution_count": 25,
      "outputs": [
        {
          "output_type": "display_data",
          "data": {
            "text/plain": [
              "<Figure size 1000x600 with 1 Axes>"
            ],
            "image/png": "[encoded data removed]"
          },
          "metadata": {}
        }
      ]
    },
    {
      "cell_type": "markdown",
      "source": [
        "We see 201 rows with missing data in the BMI column. This is the only column with missing data. We need to handle this.\n",
        "\n",
        "In order to choose the best way to impute missing data, we want to see the distribution of the data; we can attribute the missing values with mean, median, or mode. We will try to impute with a regration or k-nearest neighbors models. First, let's see the data distribution:"
      ],
      "metadata": {
        "id": "HZoNBH-Adsrp"
      }
    },
    {
      "cell_type": "code",
      "source": [
        "df['bmi'].hist()\n",
        "plt.xlabel('Value')\n",
        "plt.ylabel('Frequency')\n",
        "plt.title('Distribution of BMI')\n",
        "plt.show()"
      ],
      "metadata": {
        "colab": {
          "base_uri": "https://localhost:8080/",
          "height": 472
        },
        "id": "4f-j9hRUg0bf",
        "outputId": "db776737-c6ce-4527-ec53-c9bf7e20488a"
      },
      "execution_count": 11,
      "outputs": [
        {
          "output_type": "display_data",
          "data": {
            "text/plain": [
              "<Figure size 640x480 with 1 Axes>"
            ],
            "image/png": "[encoded data removed]"
          },
          "metadata": {}
        }
      ]
    },
    {
      "cell_type": "code",
      "source": [
        "df['bmi'].plot.kde()\n",
        "plt.xlabel('Value')\n",
        "plt.ylabel('Density')\n",
        "plt.title('Distribution of BMI')\n",
        "plt.show()"
      ],
      "metadata": {
        "colab": {
          "base_uri": "https://localhost:8080/",
          "height": 472
        },
        "id": "efKU9KBZkGTG",
        "outputId": "e2323006-bf3c-4caa-a2a5-e558716335ae"
      },
      "execution_count": 12,
      "outputs": [
        {
          "output_type": "display_data",
          "data": {
            "text/plain": [
              "<Figure size 640x480 with 1 Axes>"
            ],
            "image/png": "[encoded data removed]"
          },
          "metadata": {}
        }
      ]
    },
    {
      "cell_type": "markdown",
      "source": [
        "The distribution looks **normal**, we will perform the *Shapiro-Wilk test*.\n",
        "The Shapiro–Wilk test is a test of normality.\n",
        "The null-hypothesis of this test is that the population is normally distributed. Thus, if the p value is less than the chosen alpha level, then the null hypothesis is rejected and there is evidence that the data tested are not normally distributed. On the other hand, if the p value is greater than the chosen alpha level, then the null hypothesis (that the data came from a normally distributed population) can not be rejected (e.g., for an alpha level of .05, a data set with a p value of less than .05 rejects the null hypothesis that the data are from a normally distributed population – consequently, a data set with a p value more than the .05 alpha value fails to reject the null hypothesis that the data is from a normally distributed population)."
      ],
      "metadata": {
        "id": "3i4tuo20fMti"
      }
    },
    {
      "cell_type": "code",
      "source": [
        "# Perform a Shapiro-Wilk test\n",
        "stat, p = shapiro(df['bmi'])\n",
        "print('Shapiro-Wilk test results: statistic = %.3f, p-value = %.3f' % (stat, p))\n",
        "\n",
        "# Interpret the results\n",
        "if p > 0.05:\n",
        "    print('The data is likely normally distributed.')\n",
        "else:\n",
        "    print('The data is not likely normally distributed.')"
      ],
      "metadata": {
        "colab": {
          "base_uri": "https://localhost:8080/"
        },
        "id": "NJVG-4gefMCm",
        "outputId": "cf37b35b-dded-411e-cc91-6fdaeeb54efc"
      },
      "execution_count": 13,
      "outputs": [
        {
          "output_type": "stream",
          "name": "stdout",
          "text": [
            "Shapiro-Wilk test results: statistic = nan, p-value = 1.000\n",
            "The data is likely normally distributed.\n"
          ]
        }
      ]
    },
    {
      "cell_type": "markdown",
      "source": [
        "So, the data is normally distributed. Let's handle the categorical columns and use **linear regression** to impute the missing points.\n",
        "\n",
        "The variable with missing data is used as the *dependent variable* (BMI). Cases with complete data for the predictor variables are used to generate the regression equation (in our case - all the other variables) the equation is then used to predict missing values for incomplete cases. In an iterative process, values for the missing variable are inserted and then all cases are used to predict the dependent variable."
      ],
      "metadata": {
        "id": "MbPIM--ghml7"
      }
    },
    {
      "cell_type": "code",
      "source": [
        "# Select categorical columns\n",
        "categorical_cols = df.select_dtypes(include=['object']).columns\n",
        "\n",
        "# Print the categorical columns\n",
        "print(categorical_cols)\n",
        "\n",
        "\n",
        "unique_values = {}\n",
        "for col in categorical_cols:\n",
        "    unique_values[col] = df[col].nunique()\n",
        "\n",
        "# Print the number of unique values\n",
        "print(unique_values)"
      ],
      "metadata": {
        "colab": {
          "base_uri": "https://localhost:8080/"
        },
        "id": "-aTOZk4SiGZ3",
        "outputId": "def2c033-a95f-4b4d-b91b-960e0aa2bc07"
      },
      "execution_count": 14,
      "outputs": [
        {
          "output_type": "stream",
          "name": "stdout",
          "text": [
            "Index(['gender', 'ever_married', 'work_type', 'Residence_type',\n",
            "       'smoking_status'],\n",
            "      dtype='object')\n",
            "{'gender': 3, 'ever_married': 2, 'work_type': 5, 'Residence_type': 2, 'smoking_status': 4}\n"
          ]
        }
      ]
    },
    {
      "cell_type": "markdown",
      "source": [
        "First, we need to handle the *categorical columns*.\n",
        "These columns don't have a natural ordering, and the number of unique values is small so that we will use one hot encoding."
      ],
      "metadata": {
        "id": "Lv-bMGsXlEYI"
      }
    },
    {
      "cell_type": "code",
      "source": [
        "#binary columns:\n",
        "\n",
        "df_encoded = pd.get_dummies(df, columns=['ever_married', 'Residence_type'], drop_first=True)\n",
        "\n",
        "#molti values columns:\n",
        "df_encoded = pd.get_dummies(df_encoded, columns=['work_type','smoking_status','gender', ])\n",
        "\n",
        "\n",
        "\n",
        "df_encoded.info()"
      ],
      "metadata": {
        "colab": {
          "base_uri": "https://localhost:8080/"
        },
        "id": "5pI4L5fvmoL1",
        "outputId": "3dbbf754-1c0c-4ce0-b909-46c3beb6cc7a"
      },
      "execution_count": 15,
      "outputs": [
        {
          "output_type": "stream",
          "name": "stdout",
          "text": [
            "<class 'pandas.core.frame.DataFrame'>\n",
            "RangeIndex: 5110 entries, 0 to 5109\n",
            "Data columns (total 20 columns):\n",
            " #   Column                          Non-Null Count  Dtype  \n",
            "---  ------                          --------------  -----  \n",
            " 0   age                             5110 non-null   float64\n",
            " 1   hypertension                    5110 non-null   int64  \n",
            " 2   heart_disease                   5110 non-null   int64  \n",
            " 3   avg_glucose_level               5110 non-null   float64\n",
            " 4   bmi                             4909 non-null   float64\n",
            " 5   stroke                          5110 non-null   int64  \n",
            " 6   ever_married_Yes                5110 non-null   bool   \n",
            " 7   Residence_type_Urban            5110 non-null   bool   \n",
            " 8   work_type_Govt_job              5110 non-null   bool   \n",
            " 9   work_type_Never_worked          5110 non-null   bool   \n",
            " 10  work_type_Private               5110 non-null   bool   \n",
            " 11  work_type_Self-employed         5110 non-null   bool   \n",
            " 12  work_type_children              5110 non-null   bool   \n",
            " 13  smoking_status_Unknown          5110 non-null   bool   \n",
            " 14  smoking_status_formerly smoked  5110 non-null   bool   \n",
            " 15  smoking_status_never smoked     5110 non-null   bool   \n",
            " 16  smoking_status_smokes           5110 non-null   bool   \n",
            " 17  gender_Female                   5110 non-null   bool   \n",
            " 18  gender_Male                     5110 non-null   bool   \n",
            " 19  gender_Other                    5110 non-null   bool   \n",
            "dtypes: bool(14), float64(3), int64(3)\n",
            "memory usage: 309.5 KB\n"
          ]
        }
      ]
    },
    {
      "cell_type": "markdown",
      "source": [
        "We use the linear regression model to impute the missing data points."
      ],
      "metadata": {
        "id": "RWat6BBsITPX"
      }
    },
    {
      "cell_type": "code",
      "source": [
        "# Choose a regression model\n",
        "model = LinearRegression()\n",
        "\n",
        "# we drop the dependent variable and the variable we want to impute\n",
        "df_dropped = df_encoded.dropna(axis=0)\n",
        "X = df_dropped.drop(['bmi','stroke'], axis=1)\n",
        "y = df_dropped['bmi']\n",
        "\n",
        "# Train the model\n",
        "model.fit(X, y)\n",
        "\n"
      ],
      "metadata": {
        "colab": {
          "base_uri": "https://localhost:8080/",
          "height": 75
        },
        "id": "162sXvqLkP2P",
        "outputId": "a84dcf62-6ce1-4973-8dbd-3a3821c36380"
      },
      "execution_count": 16,
      "outputs": [
        {
          "output_type": "execute_result",
          "data": {
            "text/plain": [
              "LinearRegression()"
            ],
            "text/html": [
              "<style>#sk-container-id-1 {color: black;background-color: white;}#sk-container-id-1 pre{padding: 0;}#sk-container-id-1 div.sk-toggleable {background-color: white;}#sk-container-id-1 label.sk-toggleable__label {cursor: pointer;display: block;width: 100%;margin-bottom: 0;padding: 0.3em;box-sizing: border-box;text-align: center;}#sk-container-id-1 label.sk-toggleable__label-arrow:before {content: \"▸\";float: left;margin-right: 0.25em;color: #696969;}#sk-container-id-1 label.sk-toggleable__label-arrow:hover:before {color: black;}#sk-container-id-1 div.sk-estimator:hover label.sk-toggleable__label-arrow:before {color: black;}#sk-container-id-1 div.sk-toggleable__content {max-height: 0;max-width: 0;overflow: hidden;text-align: left;background-color: #f0f8ff;}#sk-container-id-1 div.sk-toggleable__content pre {margin: 0.2em;color: black;border-radius: 0.25em;background-color: #f0f8ff;}#sk-container-id-1 input.sk-toggleable__control:checked~div.sk-toggleable__content {max-height: 200px;max-width: 100%;overflow: auto;}#sk-container-id-1 input.sk-toggleable__control:checked~label.sk-toggleable__label-arrow:before {content: \"▾\";}#sk-container-id-1 div.sk-estimator input.sk-toggleable__control:checked~label.sk-toggleable__label {background-color: #d4ebff;}#sk-container-id-1 div.sk-label input.sk-toggleable__control:checked~label.sk-toggleable__label {background-color: #d4ebff;}#sk-container-id-1 input.sk-hidden--visually {border: 0;clip: rect(1px 1px 1px 1px);clip: rect(1px, 1px, 1px, 1px);height: 1px;margin: -1px;overflow: hidden;padding: 0;position: absolute;width: 1px;}#sk-container-id-1 div.sk-estimator {font-family: monospace;background-color: #f0f8ff;border: 1px dotted black;border-radius: 0.25em;box-sizing: border-box;margin-bottom: 0.5em;}#sk-container-id-1 div.sk-estimator:hover {background-color: #d4ebff;}#sk-container-id-1 div.sk-parallel-item::after {content: \"\";width: 100%;border-bottom: 1px solid gray;flex-grow: 1;}#sk-container-id-1 div.sk-label:hover label.sk-toggleable__label {background-color: #d4ebff;}#sk-container-id-1 div.sk-serial::before {content: \"\";position: absolute;border-left: 1px solid gray;box-sizing: border-box;top: 0;bottom: 0;left: 50%;z-index: 0;}#sk-container-id-1 div.sk-serial {display: flex;flex-direction: column;align-items: center;background-color: white;padding-right: 0.2em;padding-left: 0.2em;position: relative;}#sk-container-id-1 div.sk-item {position: relative;z-index: 1;}#sk-container-id-1 div.sk-parallel {display: flex;align-items: stretch;justify-content: center;background-color: white;position: relative;}#sk-container-id-1 div.sk-item::before, #sk-container-id-1 div.sk-parallel-item::before {content: \"\";position: absolute;border-left: 1px solid gray;box-sizing: border-box;top: 0;bottom: 0;left: 50%;z-index: -1;}#sk-container-id-1 div.sk-parallel-item {display: flex;flex-direction: column;z-index: 1;position: relative;background-color: white;}#sk-container-id-1 div.sk-parallel-item:first-child::after {align-self: flex-end;width: 50%;}#sk-container-id-1 div.sk-parallel-item:last-child::after {align-self: flex-start;width: 50%;}#sk-container-id-1 div.sk-parallel-item:only-child::after {width: 0;}#sk-container-id-1 div.sk-dashed-wrapped {border: 1px dashed gray;margin: 0 0.4em 0.5em 0.4em;box-sizing: border-box;padding-bottom: 0.4em;background-color: white;}#sk-container-id-1 div.sk-label label {font-family: monospace;font-weight: bold;display: inline-block;line-height: 1.2em;}#sk-container-id-1 div.sk-label-container {text-align: center;}#sk-container-id-1 div.sk-container {/* jupyter's `normalize.less` sets `[hidden] { display: none; }` but bootstrap.min.css set `[hidden] { display: none !important; }` so we also need the `!important` here to be able to override the default hidden behavior on the sphinx rendered scikit-learn.org. See: https://github.com/scikit-learn/scikit-learn/issues/21755 */display: inline-block !important;position: relative;}#sk-container-id-1 div.sk-text-repr-fallback {display: none;}</style><div id=\"sk-container-id-1\" class=\"sk-top-container\"><div class=\"sk-text-repr-fallback\"><pre>LinearRegression()</pre><b>In a Jupyter environment, please rerun this cell to show the HTML representation or trust the notebook. <br />On GitHub, the HTML representation is unable to render, please try loading this page with nbviewer.org.</b></div><div class=\"sk-container\" hidden><div class=\"sk-item\"><div class=\"sk-estimator sk-toggleable\"><input class=\"sk-toggleable__control sk-hidden--visually\" id=\"sk-estimator-id-1\" type=\"checkbox\" checked><label for=\"sk-estimator-id-1\" class=\"sk-toggleable__label sk-toggleable__label-arrow\">LinearRegression</label><div class=\"sk-toggleable__content\"><pre>LinearRegression()</pre></div></div></div></div></div>"
            ]
          },
          "metadata": {},
          "execution_count": 16
        }
      ]
    },
    {
      "cell_type": "markdown",
      "source": [
        "Now we can use our model to impute the missing values of the BMI."
      ],
      "metadata": {
        "id": "4xEREOMDcyfG"
      }
    },
    {
      "cell_type": "code",
      "source": [
        "# Predict the missing values\n",
        "\n",
        "df_encoded_with_na = df_encoded[df_encoded['bmi'].isnull()]\n",
        "\n",
        "df_encoded_with_na['bmi'] = model.predict(df_encoded_with_na.drop(['bmi','stroke'], axis=1))\n",
        "\n",
        "df = pd.concat([df_dropped, df_encoded_with_na], ignore_index=True)\n",
        "\n",
        "\n",
        "df.info()"
      ],
      "metadata": {
        "colab": {
          "base_uri": "https://localhost:8080/"
        },
        "id": "Y6Y1jJCGiToK",
        "outputId": "409e9ce9-ca79-4b6a-ca10-2eef3bdba201"
      },
      "execution_count": 17,
      "outputs": [
        {
          "output_type": "stream",
          "name": "stdout",
          "text": [
            "<class 'pandas.core.frame.DataFrame'>\n",
            "RangeIndex: 5110 entries, 0 to 5109\n",
            "Data columns (total 20 columns):\n",
            " #   Column                          Non-Null Count  Dtype  \n",
            "---  ------                          --------------  -----  \n",
            " 0   age                             5110 non-null   float64\n",
            " 1   hypertension                    5110 non-null   int64  \n",
            " 2   heart_disease                   5110 non-null   int64  \n",
            " 3   avg_glucose_level               5110 non-null   float64\n",
            " 4   bmi                             5110 non-null   float64\n",
            " 5   stroke                          5110 non-null   int64  \n",
            " 6   ever_married_Yes                5110 non-null   bool   \n",
            " 7   Residence_type_Urban            5110 non-null   bool   \n",
            " 8   work_type_Govt_job              5110 non-null   bool   \n",
            " 9   work_type_Never_worked          5110 non-null   bool   \n",
            " 10  work_type_Private               5110 non-null   bool   \n",
            " 11  work_type_Self-employed         5110 non-null   bool   \n",
            " 12  work_type_children              5110 non-null   bool   \n",
            " 13  smoking_status_Unknown          5110 non-null   bool   \n",
            " 14  smoking_status_formerly smoked  5110 non-null   bool   \n",
            " 15  smoking_status_never smoked     5110 non-null   bool   \n",
            " 16  smoking_status_smokes           5110 non-null   bool   \n",
            " 17  gender_Female                   5110 non-null   bool   \n",
            " 18  gender_Male                     5110 non-null   bool   \n",
            " 19  gender_Other                    5110 non-null   bool   \n",
            "dtypes: bool(14), float64(3), int64(3)\n",
            "memory usage: 309.5 KB\n"
          ]
        }
      ]
    },
    {
      "cell_type": "code",
      "source": [
        "# Get the coefficients from the trained model\n",
        "coefficients = model.coef_\n",
        "\n",
        "# Create a bar chart\n",
        "plt.figure(figsize=(10, 6))\n",
        "plt.bar(X.columns, coefficients)\n",
        "plt.xlabel(\"Feature\")\n",
        "plt.ylabel(\"Coefficient\")\n",
        "plt.title(\"Linear Regression Coefficients as Feature Importance\")\n",
        "plt.xticks(rotation=45)\n",
        "plt.show()"
      ],
      "metadata": {
        "colab": {
          "base_uri": "https://localhost:8080/",
          "height": 725
        },
        "id": "26T2o4TxOgMV",
        "outputId": "d2dd55da-b655-425e-ce97-56aa881dbb3b"
      },
      "execution_count": 20,
      "outputs": [
        {
          "output_type": "display_data",
          "data": {
            "text/plain": [
              "<Figure size 1000x600 with 1 Axes>"
            ],
            "image/png": "[encoded data removed]"
          },
          "metadata": {}
        }
      ]
    },
    {
      "cell_type": "markdown",
      "source": [
        "We see by plotting the feature importance results in that it makes sense and can show the model gives valid results - features like gender are important features in calculating the BMI; on the other hand, self-employed work type has little value in this calculation."
      ],
      "metadata": {
        "id": "vAsgrkoDQBf_"
      }
    },
    {
      "cell_type": "markdown",
      "source": [
        "###conculution\n",
        "In this data-cleaning section, we:\n",
        "1. remove the ID column because it is irrelevant to our problem.\n",
        "2. made use of linear regression to impute the missing BMI values. After The Shapiro–Wilk test, we used this model and found that the IBM distribution is normal. The mean or median input technique won't give us a good result in normal distribution. In linear regression, by design, we choose other variables that affect the BMI and use them to impute better values.\n",
        "3. important notice: we didn't use the stoke variable to prevent data leakage."
      ],
      "metadata": {
        "id": "kJ_8yP9gMxgn"
      }
    },
    {
      "cell_type": "markdown",
      "source": [
        "# Exploratory Data Analysis"
      ],
      "metadata": {
        "id": "BGrS1MCynsZc"
      }
    },
    {
      "cell_type": "code",
      "source": [
        "# plot the corolation between columns\n",
        "\n",
        "df.corr().style.background_gradient(cmap='coolwarm')\n"
      ],
      "metadata": {
        "colab": {
          "base_uri": "https://localhost:8080/",
          "height": 749
        },
        "id": "DfjBNyqGfikP",
        "outputId": "f79074ba-6b9a-4ecb-f42a-100e3fa4237d"
      },
      "execution_count": null,
      "outputs": [
        {
          "output_type": "execute_result",
          "data": {
            "text/plain": [
              "<pandas.io.formats.style.Styler at 0x79798cb88fa0>"
            ],
            "text/html": [
              "<style type=\"text/css\">\n",
              "#T_0d109_row0_col0, #T_0d109_row1_col1, #T_0d109_row2_col2, #T_0d109_row3_col3, #T_0d109_row4_col4, #T_0d109_row5_col5, #T_0d109_row6_col6, #T_0d109_row7_col7, #T_0d109_row8_col8, #T_0d109_row9_col9, #T_0d109_row10_col10, #T_0d109_row11_col11, #T_0d109_row12_col12, #T_0d109_row13_col13, #T_0d109_row14_col14, #T_0d109_row15_col15, #T_0d109_row16_col16, #T_0d109_row17_col17, #T_0d109_row18_col18, #T_0d109_row19_col19 {\n",
              "  background-color: #b40426;\n",
              "  color: #f1f1f1;\n",
              "}\n",
              "#T_0d109_row0_col1, #T_0d109_row8_col4, #T_0d109_row8_col15 {\n",
              "  background-color: #b5cdfa;\n",
              "  color: #000000;\n",
              "}\n",
              "#T_0d109_row0_col2, #T_0d109_row3_col12, #T_0d109_row6_col16 {\n",
              "  background-color: #a7c5fe;\n",
              "  color: #000000;\n",
              "}\n",
              "#T_0d109_row0_col3, #T_0d109_row1_col12, #T_0d109_row2_col8, #T_0d109_row2_col14, #T_0d109_row3_col14, #T_0d109_row5_col8, #T_0d109_row7_col4 {\n",
              "  background-color: #a2c1ff;\n",
              "  color: #000000;\n",
              "}\n",
              "#T_0d109_row0_col4, #T_0d109_row12_col18 {\n",
              "  background-color: #e8d6cc;\n",
              "  color: #000000;\n",
              "}\n",
              "#T_0d109_row0_col5, #T_0d109_row0_col16, #T_0d109_row1_col14, #T_0d109_row19_col4, #T_0d109_row19_col8 {\n",
              "  background-color: #9fbfff;\n",
              "  color: #000000;\n",
              "}\n",
              "#T_0d109_row0_col6 {\n",
              "  background-color: #ef886b;\n",
              "  color: #f1f1f1;\n",
              "}\n",
              "#T_0d109_row0_col7, #T_0d109_row5_col7, #T_0d109_row8_col7, #T_0d109_row13_col14 {\n",
              "  background-color: #455cce;\n",
              "  color: #f1f1f1;\n",
              "}\n",
              "#T_0d109_row0_col8, #T_0d109_row7_col0, #T_0d109_row14_col11 {\n",
              "  background-color: #bfd3f6;\n",
              "  color: #000000;\n",
              "}\n",
              "#T_0d109_row0_col9, #T_0d109_row0_col19, #T_0d109_row12_col1, #T_0d109_row13_col19, #T_0d109_row15_col19, #T_0d109_row19_col7 {\n",
              "  background-color: #3d50c3;\n",
              "  color: #f1f1f1;\n",
              "}\n",
              "#T_0d109_row0_col10, #T_0d109_row1_col11 {\n",
              "  background-color: #c4d5f3;\n",
              "  color: #000000;\n",
              "}\n",
              "#T_0d109_row0_col11 {\n",
              "  background-color: #ead5c9;\n",
              "  color: #000000;\n",
              "}\n",
              "#T_0d109_row0_col12, #T_0d109_row6_col9, #T_0d109_row6_col19, #T_0d109_row10_col8, #T_0d109_row10_col11, #T_0d109_row11_col10, #T_0d109_row12_col0, #T_0d109_row12_col2, #T_0d109_row12_col3, #T_0d109_row12_col4, #T_0d109_row12_col5, #T_0d109_row12_col6, #T_0d109_row13_col1, #T_0d109_row13_col15, #T_0d109_row15_col7, #T_0d109_row15_col13, #T_0d109_row15_col14, #T_0d109_row15_col16, #T_0d109_row17_col18, #T_0d109_row17_col19, #T_0d109_row18_col17 {\n",
              "  background-color: #3b4cc0;\n",
              "  color: #f1f1f1;\n",
              "}\n",
              "#T_0d109_row0_col13, #T_0d109_row8_col2, #T_0d109_row10_col2, #T_0d109_row16_col5, #T_0d109_row18_col5, #T_0d109_row19_col9 {\n",
              "  background-color: #5470de;\n",
              "  color: #f1f1f1;\n",
              "}\n",
              "#T_0d109_row0_col14, #T_0d109_row3_col4 {\n",
              "  background-color: #cbd8ee;\n",
              "  color: #000000;\n",
              "}\n",
              "#T_0d109_row0_col15 {\n",
              "  background-color: #c5d6f2;\n",
              "  color: #000000;\n",
              "}\n",
              "#T_0d109_row0_col17, #T_0d109_row4_col17, #T_0d109_row6_col17, #T_0d109_row11_col17 {\n",
              "  background-color: #e0dbd8;\n",
              "  color: #000000;\n",
              "}\n",
              "#T_0d109_row0_col18, #T_0d109_row4_col18, #T_0d109_row6_col18, #T_0d109_row11_col18 {\n",
              "  background-color: #d9dce1;\n",
              "  color: #000000;\n",
              "}\n",
              "#T_0d109_row1_col0 {\n",
              "  background-color: #ead4c8;\n",
              "  color: #000000;\n",
              "}\n",
              "#T_0d109_row1_col2, #T_0d109_row15_col1 {\n",
              "  background-color: #7597f6;\n",
              "  color: #f1f1f1;\n",
              "}\n",
              "#T_0d109_row1_col3, #T_0d109_row5_col16 {\n",
              "  background-color: #8db0fe;\n",
              "  color: #000000;\n",
              "}\n",
              "#T_0d109_row1_col4, #T_0d109_row16_col0 {\n",
              "  background-color: #cad8ef;\n",
              "  color: #000000;\n",
              "}\n",
              "#T_0d109_row1_col5, #T_0d109_row3_col5, #T_0d109_row10_col13, #T_0d109_row13_col10 {\n",
              "  background-color: #7a9df8;\n",
              "  color: #f1f1f1;\n",
              "}\n",
              "#T_0d109_row1_col6, #T_0d109_row2_col17, #T_0d109_row10_col0 {\n",
              "  background-color: #d2dbe8;\n",
              "  color: #000000;\n",
              "}\n",
              "#T_0d109_row1_col7, #T_0d109_row2_col19, #T_0d109_row3_col7, #T_0d109_row5_col19, #T_0d109_row9_col19, #T_0d109_row18_col7 {\n",
              "  background-color: #3f53c6;\n",
              "  color: #f1f1f1;\n",
              "}\n",
              "#T_0d109_row1_col8, #T_0d109_row3_col8, #T_0d109_row7_col8, #T_0d109_row7_col15, #T_0d109_row9_col11, #T_0d109_row17_col8, #T_0d109_row18_col11 {\n",
              "  background-color: #a5c3fe;\n",
              "  color: #000000;\n",
              "}\n",
              "#T_0d109_row1_col9, #T_0d109_row9_col5, #T_0d109_row15_col2 {\n",
              "  background-color: #4e68d8;\n",
              "  color: #f1f1f1;\n",
              "}\n",
              "#T_0d109_row1_col10, #T_0d109_row2_col10, #T_0d109_row5_col15, #T_0d109_row7_col13, #T_0d109_row16_col11, #T_0d109_row17_col12, #T_0d109_row18_col6 {\n",
              "  background-color: #aac7fd;\n",
              "  color: #000000;\n",
              "}\n",
              "#T_0d109_row1_col13, #T_0d109_row2_col3, #T_0d109_row13_col8 {\n",
              "  background-color: #89acfd;\n",
              "  color: #000000;\n",
              "}\n",
              "#T_0d109_row1_col15, #T_0d109_row3_col11, #T_0d109_row5_col11 {\n",
              "  background-color: #b9d0f9;\n",
              "  color: #000000;\n",
              "}\n",
              "#T_0d109_row1_col16, #T_0d109_row3_col13, #T_0d109_row8_col13, #T_0d109_row18_col15 {\n",
              "  background-color: #94b6ff;\n",
              "  color: #000000;\n",
              "}\n",
              "#T_0d109_row1_col17, #T_0d109_row8_col18, #T_0d109_row19_col17 {\n",
              "  background-color: #dadce0;\n",
              "  color: #000000;\n",
              "}\n",
              "#T_0d109_row1_col18, #T_0d109_row8_col17 {\n",
              "  background-color: #dfdbd9;\n",
              "  color: #000000;\n",
              "}\n",
              "#T_0d109_row1_col19, #T_0d109_row8_col19, #T_0d109_row10_col9, #T_0d109_row11_col19, #T_0d109_row12_col19, #T_0d109_row16_col19 {\n",
              "  background-color: #3e51c5;\n",
              "  color: #f1f1f1;\n",
              "}\n",
              "#T_0d109_row2_col0, #T_0d109_row6_col4, #T_0d109_row15_col17 {\n",
              "  background-color: #e9d5cb;\n",
              "  color: #000000;\n",
              "}\n",
              "#T_0d109_row2_col1, #T_0d109_row12_col11 {\n",
              "  background-color: #82a6fb;\n",
              "  color: #f1f1f1;\n",
              "}\n",
              "#T_0d109_row2_col4, #T_0d109_row5_col4, #T_0d109_row5_col10, #T_0d109_row7_col11, #T_0d109_row9_col0, #T_0d109_row9_col13, #T_0d109_row15_col8, #T_0d109_row19_col6 {\n",
              "  background-color: #adc9fd;\n",
              "  color: #000000;\n",
              "}\n",
              "#T_0d109_row2_col5, #T_0d109_row12_col8 {\n",
              "  background-color: #7b9ff9;\n",
              "  color: #f1f1f1;\n",
              "}\n",
              "#T_0d109_row2_col6 {\n",
              "  background-color: #c9d7f0;\n",
              "  color: #000000;\n",
              "}\n",
              "#T_0d109_row2_col7, #T_0d109_row13_col5 {\n",
              "  background-color: #4257c9;\n",
              "  color: #f1f1f1;\n",
              "}\n",
              "#T_0d109_row2_col9, #T_0d109_row3_col9, #T_0d109_row5_col9, #T_0d109_row9_col2, #T_0d109_row17_col5 {\n",
              "  background-color: #4f69d9;\n",
              "  color: #f1f1f1;\n",
              "}\n",
              "#T_0d109_row2_col11 {\n",
              "  background-color: #bed2f6;\n",
              "  color: #000000;\n",
              "}\n",
              "#T_0d109_row2_col12, #T_0d109_row11_col14, #T_0d109_row14_col8, #T_0d109_row16_col8, #T_0d109_row17_col4, #T_0d109_row19_col11, #T_0d109_row19_col13, #T_0d109_row19_col15 {\n",
              "  background-color: #a9c6fd;\n",
              "  color: #000000;\n",
              "}\n",
              "#T_0d109_row2_col13, #T_0d109_row9_col4, #T_0d109_row9_col8, #T_0d109_row14_col12, #T_0d109_row18_col14 {\n",
              "  background-color: #9bbcff;\n",
              "  color: #000000;\n",
              "}\n",
              "#T_0d109_row2_col15, #T_0d109_row7_col10, #T_0d109_row10_col16 {\n",
              "  background-color: #a6c4fe;\n",
              "  color: #000000;\n",
              "}\n",
              "#T_0d109_row2_col16, #T_0d109_row10_col14 {\n",
              "  background-color: #97b8ff;\n",
              "  color: #000000;\n",
              "}\n",
              "#T_0d109_row2_col18 {\n",
              "  background-color: #e7d7ce;\n",
              "  color: #000000;\n",
              "}\n",
              "#T_0d109_row3_col0, #T_0d109_row14_col0 {\n",
              "  background-color: #e5d8d1;\n",
              "  color: #000000;\n",
              "}\n",
              "#T_0d109_row3_col1, #T_0d109_row4_col1 {\n",
              "  background-color: #96b7ff;\n",
              "  color: #000000;\n",
              "}\n",
              "#T_0d109_row3_col2, #T_0d109_row6_col3 {\n",
              "  background-color: #86a9fc;\n",
              "  color: #f1f1f1;\n",
              "}\n",
              "#T_0d109_row3_col6, #T_0d109_row10_col6, #T_0d109_row15_col18 {\n",
              "  background-color: #cfdaea;\n",
              "  color: #000000;\n",
              "}\n",
              "#T_0d109_row3_col10, #T_0d109_row19_col10 {\n",
              "  background-color: #aec9fc;\n",
              "  color: #000000;\n",
              "}\n",
              "#T_0d109_row3_col15 {\n",
              "  background-color: #afcafc;\n",
              "  color: #000000;\n",
              "}\n",
              "#T_0d109_row3_col16 {\n",
              "  background-color: #90b2fe;\n",
              "  color: #000000;\n",
              "}\n",
              "#T_0d109_row3_col17, #T_0d109_row13_col17 {\n",
              "  background-color: #d5dbe5;\n",
              "  color: #000000;\n",
              "}\n",
              "#T_0d109_row3_col18 {\n",
              "  background-color: #e3d9d3;\n",
              "  color: #000000;\n",
              "}\n",
              "#T_0d109_row3_col19, #T_0d109_row6_col7, #T_0d109_row10_col19, #T_0d109_row17_col7 {\n",
              "  background-color: #4358cb;\n",
              "  color: #f1f1f1;\n",
              "}\n",
              "#T_0d109_row4_col0 {\n",
              "  background-color: #f1ccb8;\n",
              "  color: #000000;\n",
              "}\n",
              "#T_0d109_row4_col2, #T_0d109_row12_col16, #T_0d109_row16_col2 {\n",
              "  background-color: #6180e9;\n",
              "  color: #f1f1f1;\n",
              "}\n",
              "#T_0d109_row4_col3, #T_0d109_row18_col16 {\n",
              "  background-color: #8fb1fe;\n",
              "  color: #000000;\n",
              "}\n",
              "#T_0d109_row4_col5, #T_0d109_row10_col1, #T_0d109_row16_col15, #T_0d109_row19_col1 {\n",
              "  background-color: #5f7fe8;\n",
              "  color: #f1f1f1;\n",
              "}\n",
              "#T_0d109_row4_col6 {\n",
              "  background-color: #eed0c0;\n",
              "  color: #000000;\n",
              "}\n",
              "#T_0d109_row4_col7, #T_0d109_row12_col7, #T_0d109_row13_col2, #T_0d109_row13_col7 {\n",
              "  background-color: #4055c8;\n",
              "  color: #f1f1f1;\n",
              "}\n",
              "#T_0d109_row4_col8, #T_0d109_row9_col15, #T_0d109_row11_col4 {\n",
              "  background-color: #b3cdfb;\n",
              "  color: #000000;\n",
              "}\n",
              "#T_0d109_row4_col9, #T_0d109_row6_col12, #T_0d109_row11_col9, #T_0d109_row14_col9, #T_0d109_row16_col9 {\n",
              "  background-color: #4b64d5;\n",
              "  color: #f1f1f1;\n",
              "}\n",
              "#T_0d109_row4_col10 {\n",
              "  background-color: #d6dce4;\n",
              "  color: #000000;\n",
              "}\n",
              "#T_0d109_row4_col11, #T_0d109_row6_col14, #T_0d109_row7_col12, #T_0d109_row14_col4, #T_0d109_row15_col4, #T_0d109_row19_col12 {\n",
              "  background-color: #bbd1f8;\n",
              "  color: #000000;\n",
              "}\n",
              "#T_0d109_row4_col12 {\n",
              "  background-color: #5d7ce6;\n",
              "  color: #f1f1f1;\n",
              "}\n",
              "#T_0d109_row4_col13, #T_0d109_row14_col3 {\n",
              "  background-color: #6b8df0;\n",
              "  color: #f1f1f1;\n",
              "}\n",
              "#T_0d109_row4_col14, #T_0d109_row5_col12 {\n",
              "  background-color: #abc8fd;\n",
              "  color: #000000;\n",
              "}\n",
              "#T_0d109_row4_col15, #T_0d109_row6_col15, #T_0d109_row10_col15, #T_0d109_row15_col10, #T_0d109_row17_col0 {\n",
              "  background-color: #c1d4f4;\n",
              "  color: #000000;\n",
              "}\n",
              "#T_0d109_row4_col16, #T_0d109_row18_col10 {\n",
              "  background-color: #a3c2fe;\n",
              "  color: #000000;\n",
              "}\n",
              "#T_0d109_row4_col19, #T_0d109_row7_col19, #T_0d109_row10_col7, #T_0d109_row13_col3, #T_0d109_row17_col2, #T_0d109_row18_col19 {\n",
              "  background-color: #3c4ec2;\n",
              "  color: #f1f1f1;\n",
              "}\n",
              "#T_0d109_row5_col0 {\n",
              "  background-color: #e6d7cf;\n",
              "  color: #000000;\n",
              "}\n",
              "#T_0d109_row5_col1, #T_0d109_row9_col14, #T_0d109_row17_col16 {\n",
              "  background-color: #88abfd;\n",
              "  color: #000000;\n",
              "}\n",
              "#T_0d109_row5_col2 {\n",
              "  background-color: #7ea1fa;\n",
              "  color: #f1f1f1;\n",
              "}\n",
              "#T_0d109_row5_col3 {\n",
              "  background-color: #80a3fa;\n",
              "  color: #f1f1f1;\n",
              "}\n",
              "#T_0d109_row5_col6 {\n",
              "  background-color: #c7d7f0;\n",
              "  color: #000000;\n",
              "}\n",
              "#T_0d109_row5_col13 {\n",
              "  background-color: #9ebeff;\n",
              "  color: #000000;\n",
              "}\n",
              "#T_0d109_row5_col14 {\n",
              "  background-color: #a1c0ff;\n",
              "  color: #000000;\n",
              "}\n",
              "#T_0d109_row5_col17, #T_0d109_row9_col17, #T_0d109_row16_col17, #T_0d109_row19_col18 {\n",
              "  background-color: #dbdcde;\n",
              "  color: #000000;\n",
              "}\n",
              "#T_0d109_row5_col18, #T_0d109_row9_col18, #T_0d109_row16_col18 {\n",
              "  background-color: #dedcdb;\n",
              "  color: #000000;\n",
              "}\n",
              "#T_0d109_row6_col0 {\n",
              "  background-color: #ed8366;\n",
              "  color: #f1f1f1;\n",
              "}\n",
              "#T_0d109_row6_col1, #T_0d109_row7_col16, #T_0d109_row8_col16 {\n",
              "  background-color: #93b5fe;\n",
              "  color: #000000;\n",
              "}\n",
              "#T_0d109_row6_col2 {\n",
              "  background-color: #779af7;\n",
              "  color: #f1f1f1;\n",
              "}\n",
              "#T_0d109_row6_col5, #T_0d109_row12_col15 {\n",
              "  background-color: #7396f5;\n",
              "  color: #f1f1f1;\n",
              "}\n",
              "#T_0d109_row6_col8, #T_0d109_row16_col10, #T_0d109_row17_col15 {\n",
              "  background-color: #c0d4f5;\n",
              "  color: #000000;\n",
              "}\n",
              "#T_0d109_row6_col10, #T_0d109_row8_col6 {\n",
              "  background-color: #ccd9ed;\n",
              "  color: #000000;\n",
              "}\n",
              "#T_0d109_row6_col11, #T_0d109_row14_col6, #T_0d109_row15_col0 {\n",
              "  background-color: #d3dbe7;\n",
              "  color: #000000;\n",
              "}\n",
              "#T_0d109_row6_col13, #T_0d109_row7_col1, #T_0d109_row15_col3, #T_0d109_row15_col9, #T_0d109_row16_col14 {\n",
              "  background-color: #5e7de7;\n",
              "  color: #f1f1f1;\n",
              "}\n",
              "#T_0d109_row7_col2, #T_0d109_row7_col3, #T_0d109_row10_col5 {\n",
              "  background-color: #5572df;\n",
              "  color: #f1f1f1;\n",
              "}\n",
              "#T_0d109_row7_col5, #T_0d109_row13_col9 {\n",
              "  background-color: #5673e0;\n",
              "  color: #f1f1f1;\n",
              "}\n",
              "#T_0d109_row7_col6, #T_0d109_row11_col15, #T_0d109_row15_col11, #T_0d109_row17_col10 {\n",
              "  background-color: #b2ccfb;\n",
              "  color: #000000;\n",
              "}\n",
              "#T_0d109_row7_col9, #T_0d109_row8_col3, #T_0d109_row9_col1, #T_0d109_row14_col15, #T_0d109_row17_col1, #T_0d109_row19_col3 {\n",
              "  background-color: #5a78e4;\n",
              "  color: #f1f1f1;\n",
              "}\n",
              "#T_0d109_row7_col14, #T_0d109_row11_col13, #T_0d109_row13_col11 {\n",
              "  background-color: #92b4fe;\n",
              "  color: #000000;\n",
              "}\n",
              "#T_0d109_row7_col17 {\n",
              "  background-color: #dddcdc;\n",
              "  color: #000000;\n",
              "}\n",
              "#T_0d109_row7_col18 {\n",
              "  background-color: #dcdddd;\n",
              "  color: #000000;\n",
              "}\n",
              "#T_0d109_row8_col0 {\n",
              "  background-color: #d4dbe6;\n",
              "  color: #000000;\n",
              "}\n",
              "#T_0d109_row8_col1, #T_0d109_row13_col6, #T_0d109_row14_col5 {\n",
              "  background-color: #6687ed;\n",
              "  color: #f1f1f1;\n",
              "}\n",
              "#T_0d109_row8_col5, #T_0d109_row9_col3, #T_0d109_row19_col2 {\n",
              "  background-color: #536edd;\n",
              "  color: #f1f1f1;\n",
              "}\n",
              "#T_0d109_row8_col9, #T_0d109_row12_col9 {\n",
              "  background-color: #4c66d6;\n",
              "  color: #f1f1f1;\n",
              "}\n",
              "#T_0d109_row8_col10, #T_0d109_row17_col3 {\n",
              "  background-color: #465ecf;\n",
              "  color: #f1f1f1;\n",
              "}\n",
              "#T_0d109_row8_col11, #T_0d109_row9_col16, #T_0d109_row11_col1 {\n",
              "  background-color: #84a7fc;\n",
              "  color: #f1f1f1;\n",
              "}\n",
              "#T_0d109_row8_col12, #T_0d109_row9_col6, #T_0d109_row17_col13, #T_0d109_row18_col4, #T_0d109_row18_col8 {\n",
              "  background-color: #9dbdff;\n",
              "  color: #000000;\n",
              "}\n",
              "#T_0d109_row8_col14, #T_0d109_row11_col12, #T_0d109_row19_col14 {\n",
              "  background-color: #98b9ff;\n",
              "  color: #000000;\n",
              "}\n",
              "#T_0d109_row9_col7 {\n",
              "  background-color: #485fd1;\n",
              "  color: #f1f1f1;\n",
              "}\n",
              "#T_0d109_row9_col10, #T_0d109_row16_col12 {\n",
              "  background-color: #9abbff;\n",
              "  color: #000000;\n",
              "}\n",
              "#T_0d109_row9_col12, #T_0d109_row16_col4, #T_0d109_row17_col6, #T_0d109_row18_col0, #T_0d109_row18_col13 {\n",
              "  background-color: #b7cff9;\n",
              "  color: #000000;\n",
              "}\n",
              "#T_0d109_row10_col3, #T_0d109_row10_col12, #T_0d109_row16_col3 {\n",
              "  background-color: #5b7ae5;\n",
              "  color: #f1f1f1;\n",
              "}\n",
              "#T_0d109_row10_col4, #T_0d109_row12_col17 {\n",
              "  background-color: #d1dae9;\n",
              "  color: #000000;\n",
              "}\n",
              "#T_0d109_row10_col17 {\n",
              "  background-color: #e1dad6;\n",
              "  color: #000000;\n",
              "}\n",
              "#T_0d109_row10_col18 {\n",
              "  background-color: #d8dce2;\n",
              "  color: #000000;\n",
              "}\n",
              "#T_0d109_row11_col0 {\n",
              "  background-color: #f0cdbb;\n",
              "  color: #000000;\n",
              "}\n",
              "#T_0d109_row11_col2, #T_0d109_row18_col2 {\n",
              "  background-color: #6e90f2;\n",
              "  color: #f1f1f1;\n",
              "}\n",
              "#T_0d109_row11_col3, #T_0d109_row16_col1, #T_0d109_row16_col13 {\n",
              "  background-color: #6a8bef;\n",
              "  color: #f1f1f1;\n",
              "}\n",
              "#T_0d109_row11_col5, #T_0d109_row14_col13 {\n",
              "  background-color: #6485ec;\n",
              "  color: #f1f1f1;\n",
              "}\n",
              "#T_0d109_row11_col6, #T_0d109_row14_col17 {\n",
              "  background-color: #d7dce3;\n",
              "  color: #000000;\n",
              "}\n",
              "#T_0d109_row11_col7, #T_0d109_row12_col10, #T_0d109_row13_col16, #T_0d109_row14_col7 {\n",
              "  background-color: #445acc;\n",
              "  color: #f1f1f1;\n",
              "}\n",
              "#T_0d109_row11_col8 {\n",
              "  background-color: #799cf8;\n",
              "  color: #f1f1f1;\n",
              "}\n",
              "#T_0d109_row11_col16, #T_0d109_row15_col12, #T_0d109_row19_col16 {\n",
              "  background-color: #8badfd;\n",
              "  color: #000000;\n",
              "}\n",
              "#T_0d109_row12_col13 {\n",
              "  background-color: #f7b497;\n",
              "  color: #000000;\n",
              "}\n",
              "#T_0d109_row12_col14, #T_0d109_row18_col1, #T_0d109_row18_col3 {\n",
              "  background-color: #6788ee;\n",
              "  color: #f1f1f1;\n",
              "}\n",
              "#T_0d109_row13_col0 {\n",
              "  background-color: #6c8ff1;\n",
              "  color: #f1f1f1;\n",
              "}\n",
              "#T_0d109_row13_col4 {\n",
              "  background-color: #6282ea;\n",
              "  color: #f1f1f1;\n",
              "}\n",
              "#T_0d109_row13_col12 {\n",
              "  background-color: #f7ac8e;\n",
              "  color: #000000;\n",
              "}\n",
              "#T_0d109_row13_col18 {\n",
              "  background-color: #e4d9d2;\n",
              "  color: #000000;\n",
              "}\n",
              "#T_0d109_row14_col1 {\n",
              "  background-color: #7295f4;\n",
              "  color: #f1f1f1;\n",
              "}\n",
              "#T_0d109_row14_col2 {\n",
              "  background-color: #688aef;\n",
              "  color: #f1f1f1;\n",
              "}\n",
              "#T_0d109_row14_col10, #T_0d109_row17_col11 {\n",
              "  background-color: #b1cbfc;\n",
              "  color: #000000;\n",
              "}\n",
              "#T_0d109_row14_col16 {\n",
              "  background-color: #5977e3;\n",
              "  color: #f1f1f1;\n",
              "}\n",
              "#T_0d109_row14_col18 {\n",
              "  background-color: #e2dad5;\n",
              "  color: #000000;\n",
              "}\n",
              "#T_0d109_row14_col19, #T_0d109_row16_col7 {\n",
              "  background-color: #4961d2;\n",
              "  color: #f1f1f1;\n",
              "}\n",
              "#T_0d109_row15_col5, #T_0d109_row17_col9 {\n",
              "  background-color: #506bda;\n",
              "  color: #f1f1f1;\n",
              "}\n",
              "#T_0d109_row15_col6, #T_0d109_row16_col6 {\n",
              "  background-color: #c6d6f1;\n",
              "  color: #000000;\n",
              "}\n",
              "#T_0d109_row17_col14 {\n",
              "  background-color: #85a8fc;\n",
              "  color: #f1f1f1;\n",
              "}\n",
              "#T_0d109_row18_col9 {\n",
              "  background-color: #5875e1;\n",
              "  color: #f1f1f1;\n",
              "}\n",
              "#T_0d109_row18_col12 {\n",
              "  background-color: #cdd9ec;\n",
              "  color: #000000;\n",
              "}\n",
              "#T_0d109_row19_col0 {\n",
              "  background-color: #bad0f8;\n",
              "  color: #000000;\n",
              "}\n",
              "#T_0d109_row19_col5 {\n",
              "  background-color: #516ddb;\n",
              "  color: #f1f1f1;\n",
              "}\n",
              "</style>\n",
              "<table id=\"T_0d109\" class=\"dataframe\">\n",
              "  <thead>\n",
              "    <tr>\n",
              "      <th class=\"blank level0\" >&nbsp;</th>\n",
              "      <th id=\"T_0d109_level0_col0\" class=\"col_heading level0 col0\" >age</th>\n",
              "      <th id=\"T_0d109_level0_col1\" class=\"col_heading level0 col1\" >hypertension</th>\n",
              "      <th id=\"T_0d109_level0_col2\" class=\"col_heading level0 col2\" >heart_disease</th>\n",
              "      <th id=\"T_0d109_level0_col3\" class=\"col_heading level0 col3\" >avg_glucose_level</th>\n",
              "      <th id=\"T_0d109_level0_col4\" class=\"col_heading level0 col4\" >bmi</th>\n",
              "      <th id=\"T_0d109_level0_col5\" class=\"col_heading level0 col5\" >stroke</th>\n",
              "      <th id=\"T_0d109_level0_col6\" class=\"col_heading level0 col6\" >ever_married_Yes</th>\n",
              "      <th id=\"T_0d109_level0_col7\" class=\"col_heading level0 col7\" >Residence_type_Urban</th>\n",
              "      <th id=\"T_0d109_level0_col8\" class=\"col_heading level0 col8\" >work_type_Govt_job</th>\n",
              "      <th id=\"T_0d109_level0_col9\" class=\"col_heading level0 col9\" >work_type_Never_worked</th>\n",
              "      <th id=\"T_0d109_level0_col10\" class=\"col_heading level0 col10\" >work_type_Private</th>\n",
              "      <th id=\"T_0d109_level0_col11\" class=\"col_heading level0 col11\" >work_type_Self-employed</th>\n",
              "      <th id=\"T_0d109_level0_col12\" class=\"col_heading level0 col12\" >work_type_children</th>\n",
              "      <th id=\"T_0d109_level0_col13\" class=\"col_heading level0 col13\" >smoking_status_Unknown</th>\n",
              "      <th id=\"T_0d109_level0_col14\" class=\"col_heading level0 col14\" >smoking_status_formerly smoked</th>\n",
              "      <th id=\"T_0d109_level0_col15\" class=\"col_heading level0 col15\" >smoking_status_never smoked</th>\n",
              "      <th id=\"T_0d109_level0_col16\" class=\"col_heading level0 col16\" >smoking_status_smokes</th>\n",
              "      <th id=\"T_0d109_level0_col17\" class=\"col_heading level0 col17\" >gender_Female</th>\n",
              "      <th id=\"T_0d109_level0_col18\" class=\"col_heading level0 col18\" >gender_Male</th>\n",
              "      <th id=\"T_0d109_level0_col19\" class=\"col_heading level0 col19\" >gender_Other</th>\n",
              "    </tr>\n",
              "  </thead>\n",
              "  <tbody>\n",
              "    <tr>\n",
              "      <th id=\"T_0d109_level0_row0\" class=\"row_heading level0 row0\" >age</th>\n",
              "      <td id=\"T_0d109_row0_col0\" class=\"data row0 col0\" >1.000000</td>\n",
              "      <td id=\"T_0d109_row0_col1\" class=\"data row0 col1\" >0.276398</td>\n",
              "      <td id=\"T_0d109_row0_col2\" class=\"data row0 col2\" >0.263796</td>\n",
              "      <td id=\"T_0d109_row0_col3\" class=\"data row0 col3\" >0.238171</td>\n",
              "      <td id=\"T_0d109_row0_col4\" class=\"data row0 col4\" >0.336922</td>\n",
              "      <td id=\"T_0d109_row0_col5\" class=\"data row0 col5\" >0.245257</td>\n",
              "      <td id=\"T_0d109_row0_col6\" class=\"data row0 col6\" >0.679125</td>\n",
              "      <td id=\"T_0d109_row0_col7\" class=\"data row0 col7\" >0.014180</td>\n",
              "      <td id=\"T_0d109_row0_col8\" class=\"data row0 col8\" >0.130013</td>\n",
              "      <td id=\"T_0d109_row0_col9\" class=\"data row0 col9\" >-0.078653</td>\n",
              "      <td id=\"T_0d109_row0_col10\" class=\"data row0 col10\" >0.116534</td>\n",
              "      <td id=\"T_0d109_row0_col11\" class=\"data row0 col11\" >0.327989</td>\n",
              "      <td id=\"T_0d109_row0_col12\" class=\"data row0 col12\" >-0.634215</td>\n",
              "      <td id=\"T_0d109_row0_col13\" class=\"data row0 col13\" >-0.378231</td>\n",
              "      <td id=\"T_0d109_row0_col14\" class=\"data row0 col14\" >0.236897</td>\n",
              "      <td id=\"T_0d109_row0_col15\" class=\"data row0 col15\" >0.119307</td>\n",
              "      <td id=\"T_0d109_row0_col16\" class=\"data row0 col16\" >0.073133</td>\n",
              "      <td id=\"T_0d109_row0_col17\" class=\"data row0 col17\" >0.027924</td>\n",
              "      <td id=\"T_0d109_row0_col18\" class=\"data row0 col18\" >-0.027623</td>\n",
              "      <td id=\"T_0d109_row0_col19\" class=\"data row0 col19\" >-0.010659</td>\n",
              "    </tr>\n",
              "    <tr>\n",
              "      <th id=\"T_0d109_level0_row1\" class=\"row_heading level0 row1\" >hypertension</th>\n",
              "      <td id=\"T_0d109_row1_col0\" class=\"data row1 col0\" >0.276398</td>\n",
              "      <td id=\"T_0d109_row1_col1\" class=\"data row1 col1\" >1.000000</td>\n",
              "      <td id=\"T_0d109_row1_col2\" class=\"data row1 col2\" >0.108306</td>\n",
              "      <td id=\"T_0d109_row1_col3\" class=\"data row1 col3\" >0.174474</td>\n",
              "      <td id=\"T_0d109_row1_col4\" class=\"data row1 col4\" >0.173416</td>\n",
              "      <td id=\"T_0d109_row1_col5\" class=\"data row1 col5\" >0.127904</td>\n",
              "      <td id=\"T_0d109_row1_col6\" class=\"data row1 col6\" >0.164243</td>\n",
              "      <td id=\"T_0d109_row1_col7\" class=\"data row1 col7\" >-0.007913</td>\n",
              "      <td id=\"T_0d109_row1_col8\" class=\"data row1 col8\" >0.017685</td>\n",
              "      <td id=\"T_0d109_row1_col9\" class=\"data row1 col9\" >-0.021608</td>\n",
              "      <td id=\"T_0d109_row1_col10\" class=\"data row1 col10\" >-0.005413</td>\n",
              "      <td id=\"T_0d109_row1_col11\" class=\"data row1 col11\" >0.115442</td>\n",
              "      <td id=\"T_0d109_row1_col12\" class=\"data row1 col12\" >-0.129506</td>\n",
              "      <td id=\"T_0d109_row1_col13\" class=\"data row1 col13\" >-0.141501</td>\n",
              "      <td id=\"T_0d109_row1_col14\" class=\"data row1 col14\" >0.058853</td>\n",
              "      <td id=\"T_0d109_row1_col15\" class=\"data row1 col15\" >0.065063</td>\n",
              "      <td id=\"T_0d109_row1_col16\" class=\"data row1 col16\" >0.031240</td>\n",
              "      <td id=\"T_0d109_row1_col17\" class=\"data row1 col17\" >-0.021143</td>\n",
              "      <td id=\"T_0d109_row1_col18\" class=\"data row1 col18\" >0.021275</td>\n",
              "      <td id=\"T_0d109_row1_col19\" class=\"data row1 col19\" >-0.004597</td>\n",
              "    </tr>\n",
              "    <tr>\n",
              "      <th id=\"T_0d109_level0_row2\" class=\"row_heading level0 row2\" >heart_disease</th>\n",
              "      <td id=\"T_0d109_row2_col0\" class=\"data row2 col0\" >0.263796</td>\n",
              "      <td id=\"T_0d109_row2_col1\" class=\"data row2 col1\" >0.108306</td>\n",
              "      <td id=\"T_0d109_row2_col2\" class=\"data row2 col2\" >1.000000</td>\n",
              "      <td id=\"T_0d109_row2_col3\" class=\"data row2 col3\" >0.161857</td>\n",
              "      <td id=\"T_0d109_row2_col4\" class=\"data row2 col4\" >0.042485</td>\n",
              "      <td id=\"T_0d109_row2_col5\" class=\"data row2 col5\" >0.134914</td>\n",
              "      <td id=\"T_0d109_row2_col6\" class=\"data row2 col6\" >0.114644</td>\n",
              "      <td id=\"T_0d109_row2_col7\" class=\"data row2 col7\" >0.003092</td>\n",
              "      <td id=\"T_0d109_row2_col8\" class=\"data row2 col8\" >0.001330</td>\n",
              "      <td id=\"T_0d109_row2_col9\" class=\"data row2 col9\" >-0.015712</td>\n",
              "      <td id=\"T_0d109_row2_col10\" class=\"data row2 col10\" >0.000027</td>\n",
              "      <td id=\"T_0d109_row2_col11\" class=\"data row2 col11\" >0.086760</td>\n",
              "      <td id=\"T_0d109_row2_col12\" class=\"data row2 col12\" >-0.091634</td>\n",
              "      <td id=\"T_0d109_row2_col13\" class=\"data row2 col13\" >-0.066731</td>\n",
              "      <td id=\"T_0d109_row2_col14\" class=\"data row2 col14\" >0.066804</td>\n",
              "      <td id=\"T_0d109_row2_col15\" class=\"data row2 col15\" >-0.021856</td>\n",
              "      <td id=\"T_0d109_row2_col16\" class=\"data row2 col16\" >0.044049</td>\n",
              "      <td id=\"T_0d109_row2_col17\" class=\"data row2 col17\" >-0.085617</td>\n",
              "      <td id=\"T_0d109_row2_col18\" class=\"data row2 col18\" >0.085717</td>\n",
              "      <td id=\"T_0d109_row2_col19\" class=\"data row2 col19\" >-0.003343</td>\n",
              "    </tr>\n",
              "    <tr>\n",
              "      <th id=\"T_0d109_level0_row3\" class=\"row_heading level0 row3\" >avg_glucose_level</th>\n",
              "      <td id=\"T_0d109_row3_col0\" class=\"data row3 col0\" >0.238171</td>\n",
              "      <td id=\"T_0d109_row3_col1\" class=\"data row3 col1\" >0.174474</td>\n",
              "      <td id=\"T_0d109_row3_col2\" class=\"data row3 col2\" >0.161857</td>\n",
              "      <td id=\"T_0d109_row3_col3\" class=\"data row3 col3\" >1.000000</td>\n",
              "      <td id=\"T_0d109_row3_col4\" class=\"data row3 col4\" >0.180418</td>\n",
              "      <td id=\"T_0d109_row3_col5\" class=\"data row3 col5\" >0.131945</td>\n",
              "      <td id=\"T_0d109_row3_col6\" class=\"data row3 col6\" >0.155068</td>\n",
              "      <td id=\"T_0d109_row3_col7\" class=\"data row3 col7\" >-0.004946</td>\n",
              "      <td id=\"T_0d109_row3_col8\" class=\"data row3 col8\" >0.013845</td>\n",
              "      <td id=\"T_0d109_row3_col9\" class=\"data row3 col9\" >-0.014675</td>\n",
              "      <td id=\"T_0d109_row3_col10\" class=\"data row3 col10\" >0.016588</td>\n",
              "      <td id=\"T_0d109_row3_col11\" class=\"data row3 col11\" >0.062694</td>\n",
              "      <td id=\"T_0d109_row3_col12\" class=\"data row3 col12\" >-0.102250</td>\n",
              "      <td id=\"T_0d109_row3_col13\" class=\"data row3 col13\" >-0.095131</td>\n",
              "      <td id=\"T_0d109_row3_col14\" class=\"data row3 col14\" >0.068111</td>\n",
              "      <td id=\"T_0d109_row3_col15\" class=\"data row3 col15\" >0.023885</td>\n",
              "      <td id=\"T_0d109_row3_col16\" class=\"data row3 col16\" >0.017646</td>\n",
              "      <td id=\"T_0d109_row3_col17\" class=\"data row3 col17\" >-0.054902</td>\n",
              "      <td id=\"T_0d109_row3_col18\" class=\"data row3 col18\" >0.054580</td>\n",
              "      <td id=\"T_0d109_row3_col19\" class=\"data row3 col19\" >0.011489</td>\n",
              "    </tr>\n",
              "    <tr>\n",
              "      <th id=\"T_0d109_level0_row4\" class=\"row_heading level0 row4\" >bmi</th>\n",
              "      <td id=\"T_0d109_row4_col0\" class=\"data row4 col0\" >0.336922</td>\n",
              "      <td id=\"T_0d109_row4_col1\" class=\"data row4 col1\" >0.173416</td>\n",
              "      <td id=\"T_0d109_row4_col2\" class=\"data row4 col2\" >0.042485</td>\n",
              "      <td id=\"T_0d109_row4_col3\" class=\"data row4 col3\" >0.180418</td>\n",
              "      <td id=\"T_0d109_row4_col4\" class=\"data row4 col4\" >1.000000</td>\n",
              "      <td id=\"T_0d109_row4_col5\" class=\"data row4 col5\" >0.043330</td>\n",
              "      <td id=\"T_0d109_row4_col6\" class=\"data row4 col6\" >0.345786</td>\n",
              "      <td id=\"T_0d109_row4_col7\" class=\"data row4 col7\" >-0.000864</td>\n",
              "      <td id=\"T_0d109_row4_col8\" class=\"data row4 col8\" >0.079109</td>\n",
              "      <td id=\"T_0d109_row4_col9\" class=\"data row4 col9\" >-0.028897</td>\n",
              "      <td id=\"T_0d109_row4_col10\" class=\"data row4 col10\" >0.208924</td>\n",
              "      <td id=\"T_0d109_row4_col11\" class=\"data row4 col11\" >0.072937</td>\n",
              "      <td id=\"T_0d109_row4_col12\" class=\"data row4 col12\" >-0.453515</td>\n",
              "      <td id=\"T_0d109_row4_col13\" class=\"data row4 col13\" >-0.271020</td>\n",
              "      <td id=\"T_0d109_row4_col14\" class=\"data row4 col14\" >0.107069</td>\n",
              "      <td id=\"T_0d109_row4_col15\" class=\"data row4 col15\" >0.105675</td>\n",
              "      <td id=\"T_0d109_row4_col16\" class=\"data row4 col16\" >0.091067</td>\n",
              "      <td id=\"T_0d109_row4_col17\" class=\"data row4 col17\" >0.024540</td>\n",
              "      <td id=\"T_0d109_row4_col18\" class=\"data row4 col18\" >-0.024206</td>\n",
              "      <td id=\"T_0d109_row4_col19\" class=\"data row4 col19\" >-0.011841</td>\n",
              "    </tr>\n",
              "    <tr>\n",
              "      <th id=\"T_0d109_level0_row5\" class=\"row_heading level0 row5\" >stroke</th>\n",
              "      <td id=\"T_0d109_row5_col0\" class=\"data row5 col0\" >0.245257</td>\n",
              "      <td id=\"T_0d109_row5_col1\" class=\"data row5 col1\" >0.127904</td>\n",
              "      <td id=\"T_0d109_row5_col2\" class=\"data row5 col2\" >0.134914</td>\n",
              "      <td id=\"T_0d109_row5_col3\" class=\"data row5 col3\" >0.131945</td>\n",
              "      <td id=\"T_0d109_row5_col4\" class=\"data row5 col4\" >0.043330</td>\n",
              "      <td id=\"T_0d109_row5_col5\" class=\"data row5 col5\" >1.000000</td>\n",
              "      <td id=\"T_0d109_row5_col6\" class=\"data row5 col6\" >0.108340</td>\n",
              "      <td id=\"T_0d109_row5_col7\" class=\"data row5 col7\" >0.015458</td>\n",
              "      <td id=\"T_0d109_row5_col8\" class=\"data row5 col8\" >0.002677</td>\n",
              "      <td id=\"T_0d109_row5_col9\" class=\"data row5 col9\" >-0.014882</td>\n",
              "      <td id=\"T_0d109_row5_col10\" class=\"data row5 col10\" >0.011888</td>\n",
              "      <td id=\"T_0d109_row5_col11\" class=\"data row5 col11\" >0.062168</td>\n",
              "      <td id=\"T_0d109_row5_col12\" class=\"data row5 col12\" >-0.083869</td>\n",
              "      <td id=\"T_0d109_row5_col13\" class=\"data row5 col13\" >-0.055892</td>\n",
              "      <td id=\"T_0d109_row5_col14\" class=\"data row5 col14\" >0.064556</td>\n",
              "      <td id=\"T_0d109_row5_col15\" class=\"data row5 col15\" >-0.004129</td>\n",
              "      <td id=\"T_0d109_row5_col16\" class=\"data row5 col16\" >0.008939</td>\n",
              "      <td id=\"T_0d109_row5_col17\" class=\"data row5 col17\" >-0.009027</td>\n",
              "      <td id=\"T_0d109_row5_col18\" class=\"data row5 col18\" >0.009117</td>\n",
              "      <td id=\"T_0d109_row5_col19\" class=\"data row5 col19\" >-0.003166</td>\n",
              "    </tr>\n",
              "    <tr>\n",
              "      <th id=\"T_0d109_level0_row6\" class=\"row_heading level0 row6\" >ever_married_Yes</th>\n",
              "      <td id=\"T_0d109_row6_col0\" class=\"data row6 col0\" >0.679125</td>\n",
              "      <td id=\"T_0d109_row6_col1\" class=\"data row6 col1\" >0.164243</td>\n",
              "      <td id=\"T_0d109_row6_col2\" class=\"data row6 col2\" >0.114644</td>\n",
              "      <td id=\"T_0d109_row6_col3\" class=\"data row6 col3\" >0.155068</td>\n",
              "      <td id=\"T_0d109_row6_col4\" class=\"data row6 col4\" >0.345786</td>\n",
              "      <td id=\"T_0d109_row6_col5\" class=\"data row6 col5\" >0.108340</td>\n",
              "      <td id=\"T_0d109_row6_col6\" class=\"data row6 col6\" >1.000000</td>\n",
              "      <td id=\"T_0d109_row6_col7\" class=\"data row6 col7\" >0.006261</td>\n",
              "      <td id=\"T_0d109_row6_col8\" class=\"data row6 col8\" >0.134041</td>\n",
              "      <td id=\"T_0d109_row6_col9\" class=\"data row6 col9\" >-0.090838</td>\n",
              "      <td id=\"T_0d109_row6_col10\" class=\"data row6 col10\" >0.153830</td>\n",
              "      <td id=\"T_0d109_row6_col11\" class=\"data row6 col11\" >0.192716</td>\n",
              "      <td id=\"T_0d109_row6_col12\" class=\"data row6 col12\" >-0.544441</td>\n",
              "      <td id=\"T_0d109_row6_col13\" class=\"data row6 col13\" >-0.332081</td>\n",
              "      <td id=\"T_0d109_row6_col14\" class=\"data row6 col14\" >0.171256</td>\n",
              "      <td id=\"T_0d109_row6_col15\" class=\"data row6 col15\" >0.102845</td>\n",
              "      <td id=\"T_0d109_row6_col16\" class=\"data row6 col16\" >0.105226</td>\n",
              "      <td id=\"T_0d109_row6_col17\" class=\"data row6 col17\" >0.030483</td>\n",
              "      <td id=\"T_0d109_row6_col18\" class=\"data row6 col18\" >-0.029936</td>\n",
              "      <td id=\"T_0d109_row6_col19\" class=\"data row6 col19\" >-0.019327</td>\n",
              "    </tr>\n",
              "    <tr>\n",
              "      <th id=\"T_0d109_level0_row7\" class=\"row_heading level0 row7\" >Residence_type_Urban</th>\n",
              "      <td id=\"T_0d109_row7_col0\" class=\"data row7 col0\" >0.014180</td>\n",
              "      <td id=\"T_0d109_row7_col1\" class=\"data row7 col1\" >-0.007913</td>\n",
              "      <td id=\"T_0d109_row7_col2\" class=\"data row7 col2\" >0.003092</td>\n",
              "      <td id=\"T_0d109_row7_col3\" class=\"data row7 col3\" >-0.004946</td>\n",
              "      <td id=\"T_0d109_row7_col4\" class=\"data row7 col4\" >-0.000864</td>\n",
              "      <td id=\"T_0d109_row7_col5\" class=\"data row7 col5\" >0.015458</td>\n",
              "      <td id=\"T_0d109_row7_col6\" class=\"data row7 col6\" >0.006261</td>\n",
              "      <td id=\"T_0d109_row7_col7\" class=\"data row7 col7\" >1.000000</td>\n",
              "      <td id=\"T_0d109_row7_col8\" class=\"data row7 col8\" >0.013131</td>\n",
              "      <td id=\"T_0d109_row7_col9\" class=\"data row7 col9\" >0.022859</td>\n",
              "      <td id=\"T_0d109_row7_col10\" class=\"data row7 col10\" >-0.018173</td>\n",
              "      <td id=\"T_0d109_row7_col11\" class=\"data row7 col11\" >0.010594</td>\n",
              "      <td id=\"T_0d109_row7_col12\" class=\"data row7 col12\" >-0.002309</td>\n",
              "      <td id=\"T_0d109_row7_col13\" class=\"data row7 col13\" >-0.002036</td>\n",
              "      <td id=\"T_0d109_row7_col14\" class=\"data row7 col14\" >0.007654</td>\n",
              "      <td id=\"T_0d109_row7_col15\" class=\"data row7 col15\" >-0.024466</td>\n",
              "      <td id=\"T_0d109_row7_col16\" class=\"data row7 col16\" >0.027266</td>\n",
              "      <td id=\"T_0d109_row7_col17\" class=\"data row7 col17\" >0.006340</td>\n",
              "      <td id=\"T_0d109_row7_col18\" class=\"data row7 col18\" >-0.005937</td>\n",
              "      <td id=\"T_0d109_row7_col19\" class=\"data row7 col19\" >-0.014217</td>\n",
              "    </tr>\n",
              "    <tr>\n",
              "      <th id=\"T_0d109_level0_row8\" class=\"row_heading level0 row8\" >work_type_Govt_job</th>\n",
              "      <td id=\"T_0d109_row8_col0\" class=\"data row8 col0\" >0.130013</td>\n",
              "      <td id=\"T_0d109_row8_col1\" class=\"data row8 col1\" >0.017685</td>\n",
              "      <td id=\"T_0d109_row8_col2\" class=\"data row8 col2\" >0.001330</td>\n",
              "      <td id=\"T_0d109_row8_col3\" class=\"data row8 col3\" >0.013845</td>\n",
              "      <td id=\"T_0d109_row8_col4\" class=\"data row8 col4\" >0.079109</td>\n",
              "      <td id=\"T_0d109_row8_col5\" class=\"data row8 col5\" >0.002677</td>\n",
              "      <td id=\"T_0d109_row8_col6\" class=\"data row8 col6\" >0.134041</td>\n",
              "      <td id=\"T_0d109_row8_col7\" class=\"data row8 col7\" >0.013131</td>\n",
              "      <td id=\"T_0d109_row8_col8\" class=\"data row8 col8\" >1.000000</td>\n",
              "      <td id=\"T_0d109_row8_col9\" class=\"data row8 col9\" >-0.025258</td>\n",
              "      <td id=\"T_0d109_row8_col10\" class=\"data row8 col10\" >-0.444420</td>\n",
              "      <td id=\"T_0d109_row8_col11\" class=\"data row8 col11\" >-0.167810</td>\n",
              "      <td id=\"T_0d109_row8_col12\" class=\"data row8 col12\" >-0.151383</td>\n",
              "      <td id=\"T_0d109_row8_col13\" class=\"data row8 col13\" >-0.097418</td>\n",
              "      <td id=\"T_0d109_row8_col14\" class=\"data row8 col14\" >0.029686</td>\n",
              "      <td id=\"T_0d109_row8_col15\" class=\"data row8 col15\" >0.046908</td>\n",
              "      <td id=\"T_0d109_row8_col16\" class=\"data row8 col16\" >0.030026</td>\n",
              "      <td id=\"T_0d109_row8_col17\" class=\"data row8 col17\" >0.016685</td>\n",
              "      <td id=\"T_0d109_row8_col18\" class=\"data row8 col18\" >-0.016534</td>\n",
              "      <td id=\"T_0d109_row8_col19\" class=\"data row8 col19\" >-0.005374</td>\n",
              "    </tr>\n",
              "    <tr>\n",
              "      <th id=\"T_0d109_level0_row9\" class=\"row_heading level0 row9\" >work_type_Never_worked</th>\n",
              "      <td id=\"T_0d109_row9_col0\" class=\"data row9 col0\" >-0.078653</td>\n",
              "      <td id=\"T_0d109_row9_col1\" class=\"data row9 col1\" >-0.021608</td>\n",
              "      <td id=\"T_0d109_row9_col2\" class=\"data row9 col2\" >-0.015712</td>\n",
              "      <td id=\"T_0d109_row9_col3\" class=\"data row9 col3\" >-0.014675</td>\n",
              "      <td id=\"T_0d109_row9_col4\" class=\"data row9 col4\" >-0.028897</td>\n",
              "      <td id=\"T_0d109_row9_col5\" class=\"data row9 col5\" >-0.014882</td>\n",
              "      <td id=\"T_0d109_row9_col6\" class=\"data row9 col6\" >-0.090838</td>\n",
              "      <td id=\"T_0d109_row9_col7\" class=\"data row9 col7\" >0.022859</td>\n",
              "      <td id=\"T_0d109_row9_col8\" class=\"data row9 col8\" >-0.025258</td>\n",
              "      <td id=\"T_0d109_row9_col9\" class=\"data row9 col9\" >1.000000</td>\n",
              "      <td id=\"T_0d109_row9_col10\" class=\"data row9 col10\" >-0.076081</td>\n",
              "      <td id=\"T_0d109_row9_col11\" class=\"data row9 col11\" >-0.028728</td>\n",
              "      <td id=\"T_0d109_row9_col12\" class=\"data row9 col12\" >-0.025915</td>\n",
              "      <td id=\"T_0d109_row9_col13\" class=\"data row9 col13\" >0.008804</td>\n",
              "      <td id=\"T_0d109_row9_col14\" class=\"data row9 col14\" >-0.030095</td>\n",
              "      <td id=\"T_0d109_row9_col15\" class=\"data row9 col15\" >0.036238</td>\n",
              "      <td id=\"T_0d109_row9_col16\" class=\"data row9 col16\" >-0.028099</td>\n",
              "      <td id=\"T_0d109_row9_col17\" class=\"data row9 col17\" >-0.011469</td>\n",
              "      <td id=\"T_0d109_row9_col18\" class=\"data row9 col18\" >0.011496</td>\n",
              "      <td id=\"T_0d109_row9_col19\" class=\"data row9 col19\" >-0.000920</td>\n",
              "    </tr>\n",
              "    <tr>\n",
              "      <th id=\"T_0d109_level0_row10\" class=\"row_heading level0 row10\" >work_type_Private</th>\n",
              "      <td id=\"T_0d109_row10_col0\" class=\"data row10 col0\" >0.116534</td>\n",
              "      <td id=\"T_0d109_row10_col1\" class=\"data row10 col1\" >-0.005413</td>\n",
              "      <td id=\"T_0d109_row10_col2\" class=\"data row10 col2\" >0.000027</td>\n",
              "      <td id=\"T_0d109_row10_col3\" class=\"data row10 col3\" >0.016588</td>\n",
              "      <td id=\"T_0d109_row10_col4\" class=\"data row10 col4\" >0.208924</td>\n",
              "      <td id=\"T_0d109_row10_col5\" class=\"data row10 col5\" >0.011888</td>\n",
              "      <td id=\"T_0d109_row10_col6\" class=\"data row10 col6\" >0.153830</td>\n",
              "      <td id=\"T_0d109_row10_col7\" class=\"data row10 col7\" >-0.018173</td>\n",
              "      <td id=\"T_0d109_row10_col8\" class=\"data row10 col8\" >-0.444420</td>\n",
              "      <td id=\"T_0d109_row10_col9\" class=\"data row10 col9\" >-0.076081</td>\n",
              "      <td id=\"T_0d109_row10_col10\" class=\"data row10 col10\" >1.000000</td>\n",
              "      <td id=\"T_0d109_row10_col11\" class=\"data row10 col11\" >-0.505475</td>\n",
              "      <td id=\"T_0d109_row10_col12\" class=\"data row10 col12\" >-0.455992</td>\n",
              "      <td id=\"T_0d109_row10_col13\" class=\"data row10 col13\" >-0.210013</td>\n",
              "      <td id=\"T_0d109_row10_col14\" class=\"data row10 col14\" >0.025526</td>\n",
              "      <td id=\"T_0d109_row10_col15\" class=\"data row10 col15\" >0.104860</td>\n",
              "      <td id=\"T_0d109_row10_col16\" class=\"data row10 col16\" >0.100025</td>\n",
              "      <td id=\"T_0d109_row10_col17\" class=\"data row10 col17\" >0.032294</td>\n",
              "      <td id=\"T_0d109_row10_col18\" class=\"data row10 col18\" >-0.032639</td>\n",
              "      <td id=\"T_0d109_row10_col19\" class=\"data row10 col19\" >0.012092</td>\n",
              "    </tr>\n",
              "    <tr>\n",
              "      <th id=\"T_0d109_level0_row11\" class=\"row_heading level0 row11\" >work_type_Self-employed</th>\n",
              "      <td id=\"T_0d109_row11_col0\" class=\"data row11 col0\" >0.327989</td>\n",
              "      <td id=\"T_0d109_row11_col1\" class=\"data row11 col1\" >0.115442</td>\n",
              "      <td id=\"T_0d109_row11_col2\" class=\"data row11 col2\" >0.086760</td>\n",
              "      <td id=\"T_0d109_row11_col3\" class=\"data row11 col3\" >0.062694</td>\n",
              "      <td id=\"T_0d109_row11_col4\" class=\"data row11 col4\" >0.072937</td>\n",
              "      <td id=\"T_0d109_row11_col5\" class=\"data row11 col5\" >0.062168</td>\n",
              "      <td id=\"T_0d109_row11_col6\" class=\"data row11 col6\" >0.192716</td>\n",
              "      <td id=\"T_0d109_row11_col7\" class=\"data row11 col7\" >0.010594</td>\n",
              "      <td id=\"T_0d109_row11_col8\" class=\"data row11 col8\" >-0.167810</td>\n",
              "      <td id=\"T_0d109_row11_col9\" class=\"data row11 col9\" >-0.028728</td>\n",
              "      <td id=\"T_0d109_row11_col10\" class=\"data row11 col10\" >-0.505475</td>\n",
              "      <td id=\"T_0d109_row11_col11\" class=\"data row11 col11\" >1.000000</td>\n",
              "      <td id=\"T_0d109_row11_col12\" class=\"data row11 col12\" >-0.172180</td>\n",
              "      <td id=\"T_0d109_row11_col13\" class=\"data row11 col13\" >-0.106250</td>\n",
              "      <td id=\"T_0d109_row11_col14\" class=\"data row11 col14\" >0.093260</td>\n",
              "      <td id=\"T_0d109_row11_col15\" class=\"data row11 col15\" >0.030668</td>\n",
              "      <td id=\"T_0d109_row11_col16\" class=\"data row11 col16\" >-0.003626</td>\n",
              "      <td id=\"T_0d109_row11_col17\" class=\"data row11 col17\" >0.026143</td>\n",
              "      <td id=\"T_0d109_row11_col18\" class=\"data row11 col18\" >-0.025971</td>\n",
              "      <td id=\"T_0d109_row11_col19\" class=\"data row11 col19\" >-0.006112</td>\n",
              "    </tr>\n",
              "    <tr>\n",
              "      <th id=\"T_0d109_level0_row12\" class=\"row_heading level0 row12\" >work_type_children</th>\n",
              "      <td id=\"T_0d109_row12_col0\" class=\"data row12 col0\" >-0.634215</td>\n",
              "      <td id=\"T_0d109_row12_col1\" class=\"data row12 col1\" >-0.129506</td>\n",
              "      <td id=\"T_0d109_row12_col2\" class=\"data row12 col2\" >-0.091634</td>\n",
              "      <td id=\"T_0d109_row12_col3\" class=\"data row12 col3\" >-0.102250</td>\n",
              "      <td id=\"T_0d109_row12_col4\" class=\"data row12 col4\" >-0.453515</td>\n",
              "      <td id=\"T_0d109_row12_col5\" class=\"data row12 col5\" >-0.083869</td>\n",
              "      <td id=\"T_0d109_row12_col6\" class=\"data row12 col6\" >-0.544441</td>\n",
              "      <td id=\"T_0d109_row12_col7\" class=\"data row12 col7\" >-0.002309</td>\n",
              "      <td id=\"T_0d109_row12_col8\" class=\"data row12 col8\" >-0.151383</td>\n",
              "      <td id=\"T_0d109_row12_col9\" class=\"data row12 col9\" >-0.025915</td>\n",
              "      <td id=\"T_0d109_row12_col10\" class=\"data row12 col10\" >-0.455992</td>\n",
              "      <td id=\"T_0d109_row12_col11\" class=\"data row12 col11\" >-0.172180</td>\n",
              "      <td id=\"T_0d109_row12_col12\" class=\"data row12 col12\" >1.000000</td>\n",
              "      <td id=\"T_0d109_row12_col13\" class=\"data row12 col13\" >0.512743</td>\n",
              "      <td id=\"T_0d109_row12_col14\" class=\"data row12 col14\" >-0.160668</td>\n",
              "      <td id=\"T_0d109_row12_col15\" class=\"data row12 col15\" >-0.238041</td>\n",
              "      <td id=\"T_0d109_row12_col16\" class=\"data row12 col16\" >-0.165234</td>\n",
              "      <td id=\"T_0d109_row12_col17\" class=\"data row12 col17\" >-0.089120</td>\n",
              "      <td id=\"T_0d109_row12_col18\" class=\"data row12 col18\" >0.089283</td>\n",
              "      <td id=\"T_0d109_row12_col19\" class=\"data row12 col19\" >-0.005514</td>\n",
              "    </tr>\n",
              "    <tr>\n",
              "      <th id=\"T_0d109_level0_row13\" class=\"row_heading level0 row13\" >smoking_status_Unknown</th>\n",
              "      <td id=\"T_0d109_row13_col0\" class=\"data row13 col0\" >-0.378231</td>\n",
              "      <td id=\"T_0d109_row13_col1\" class=\"data row13 col1\" >-0.141501</td>\n",
              "      <td id=\"T_0d109_row13_col2\" class=\"data row13 col2\" >-0.066731</td>\n",
              "      <td id=\"T_0d109_row13_col3\" class=\"data row13 col3\" >-0.095131</td>\n",
              "      <td id=\"T_0d109_row13_col4\" class=\"data row13 col4\" >-0.271020</td>\n",
              "      <td id=\"T_0d109_row13_col5\" class=\"data row13 col5\" >-0.055892</td>\n",
              "      <td id=\"T_0d109_row13_col6\" class=\"data row13 col6\" >-0.332081</td>\n",
              "      <td id=\"T_0d109_row13_col7\" class=\"data row13 col7\" >-0.002036</td>\n",
              "      <td id=\"T_0d109_row13_col8\" class=\"data row13 col8\" >-0.097418</td>\n",
              "      <td id=\"T_0d109_row13_col9\" class=\"data row13 col9\" >0.008804</td>\n",
              "      <td id=\"T_0d109_row13_col10\" class=\"data row13 col10\" >-0.210013</td>\n",
              "      <td id=\"T_0d109_row13_col11\" class=\"data row13 col11\" >-0.106250</td>\n",
              "      <td id=\"T_0d109_row13_col12\" class=\"data row13 col12\" >0.512743</td>\n",
              "      <td id=\"T_0d109_row13_col13\" class=\"data row13 col13\" >1.000000</td>\n",
              "      <td id=\"T_0d109_row13_col14\" class=\"data row13 col14\" >-0.301156</td>\n",
              "      <td id=\"T_0d109_row13_col15\" class=\"data row13 col15\" >-0.504546</td>\n",
              "      <td id=\"T_0d109_row13_col16\" class=\"data row13 col16\" >-0.281177</td>\n",
              "      <td id=\"T_0d109_row13_col17\" class=\"data row13 col17\" >-0.059393</td>\n",
              "      <td id=\"T_0d109_row13_col18\" class=\"data row13 col18\" >0.059658</td>\n",
              "      <td id=\"T_0d109_row13_col19\" class=\"data row13 col19\" >-0.009206</td>\n",
              "    </tr>\n",
              "    <tr>\n",
              "      <th id=\"T_0d109_level0_row14\" class=\"row_heading level0 row14\" >smoking_status_formerly smoked</th>\n",
              "      <td id=\"T_0d109_row14_col0\" class=\"data row14 col0\" >0.236897</td>\n",
              "      <td id=\"T_0d109_row14_col1\" class=\"data row14 col1\" >0.058853</td>\n",
              "      <td id=\"T_0d109_row14_col2\" class=\"data row14 col2\" >0.066804</td>\n",
              "      <td id=\"T_0d109_row14_col3\" class=\"data row14 col3\" >0.068111</td>\n",
              "      <td id=\"T_0d109_row14_col4\" class=\"data row14 col4\" >0.107069</td>\n",
              "      <td id=\"T_0d109_row14_col5\" class=\"data row14 col5\" >0.064556</td>\n",
              "      <td id=\"T_0d109_row14_col6\" class=\"data row14 col6\" >0.171256</td>\n",
              "      <td id=\"T_0d109_row14_col7\" class=\"data row14 col7\" >0.007654</td>\n",
              "      <td id=\"T_0d109_row14_col8\" class=\"data row14 col8\" >0.029686</td>\n",
              "      <td id=\"T_0d109_row14_col9\" class=\"data row14 col9\" >-0.030095</td>\n",
              "      <td id=\"T_0d109_row14_col10\" class=\"data row14 col10\" >0.025526</td>\n",
              "      <td id=\"T_0d109_row14_col11\" class=\"data row14 col11\" >0.093260</td>\n",
              "      <td id=\"T_0d109_row14_col12\" class=\"data row14 col12\" >-0.160668</td>\n",
              "      <td id=\"T_0d109_row14_col13\" class=\"data row14 col13\" >-0.301156</td>\n",
              "      <td id=\"T_0d109_row14_col14\" class=\"data row14 col14\" >1.000000</td>\n",
              "      <td id=\"T_0d109_row14_col15\" class=\"data row14 col15\" >-0.350934</td>\n",
              "      <td id=\"T_0d109_row14_col16\" class=\"data row14 col16\" >-0.195571</td>\n",
              "      <td id=\"T_0d109_row14_col17\" class=\"data row14 col17\" >-0.043603</td>\n",
              "      <td id=\"T_0d109_row14_col18\" class=\"data row14 col18\" >0.042738</td>\n",
              "      <td id=\"T_0d109_row14_col19\" class=\"data row14 col19\" >0.030568</td>\n",
              "    </tr>\n",
              "    <tr>\n",
              "      <th id=\"T_0d109_level0_row15\" class=\"row_heading level0 row15\" >smoking_status_never smoked</th>\n",
              "      <td id=\"T_0d109_row15_col0\" class=\"data row15 col0\" >0.119307</td>\n",
              "      <td id=\"T_0d109_row15_col1\" class=\"data row15 col1\" >0.065063</td>\n",
              "      <td id=\"T_0d109_row15_col2\" class=\"data row15 col2\" >-0.021856</td>\n",
              "      <td id=\"T_0d109_row15_col3\" class=\"data row15 col3\" >0.023885</td>\n",
              "      <td id=\"T_0d109_row15_col4\" class=\"data row15 col4\" >0.105675</td>\n",
              "      <td id=\"T_0d109_row15_col5\" class=\"data row15 col5\" >-0.004129</td>\n",
              "      <td id=\"T_0d109_row15_col6\" class=\"data row15 col6\" >0.102845</td>\n",
              "      <td id=\"T_0d109_row15_col7\" class=\"data row15 col7\" >-0.024466</td>\n",
              "      <td id=\"T_0d109_row15_col8\" class=\"data row15 col8\" >0.046908</td>\n",
              "      <td id=\"T_0d109_row15_col9\" class=\"data row15 col9\" >0.036238</td>\n",
              "      <td id=\"T_0d109_row15_col10\" class=\"data row15 col10\" >0.104860</td>\n",
              "      <td id=\"T_0d109_row15_col11\" class=\"data row15 col11\" >0.030668</td>\n",
              "      <td id=\"T_0d109_row15_col12\" class=\"data row15 col12\" >-0.238041</td>\n",
              "      <td id=\"T_0d109_row15_col13\" class=\"data row15 col13\" >-0.504546</td>\n",
              "      <td id=\"T_0d109_row15_col14\" class=\"data row15 col14\" >-0.350934</td>\n",
              "      <td id=\"T_0d109_row15_col15\" class=\"data row15 col15\" >1.000000</td>\n",
              "      <td id=\"T_0d109_row15_col16\" class=\"data row15 col16\" >-0.327653</td>\n",
              "      <td id=\"T_0d109_row15_col17\" class=\"data row15 col17\" >0.099111</td>\n",
              "      <td id=\"T_0d109_row15_col18\" class=\"data row15 col18\" >-0.098813</td>\n",
              "      <td id=\"T_0d109_row15_col19\" class=\"data row15 col19\" >-0.010728</td>\n",
              "    </tr>\n",
              "    <tr>\n",
              "      <th id=\"T_0d109_level0_row16\" class=\"row_heading level0 row16\" >smoking_status_smokes</th>\n",
              "      <td id=\"T_0d109_row16_col0\" class=\"data row16 col0\" >0.073133</td>\n",
              "      <td id=\"T_0d109_row16_col1\" class=\"data row16 col1\" >0.031240</td>\n",
              "      <td id=\"T_0d109_row16_col2\" class=\"data row16 col2\" >0.044049</td>\n",
              "      <td id=\"T_0d109_row16_col3\" class=\"data row16 col3\" >0.017646</td>\n",
              "      <td id=\"T_0d109_row16_col4\" class=\"data row16 col4\" >0.091067</td>\n",
              "      <td id=\"T_0d109_row16_col5\" class=\"data row16 col5\" >0.008939</td>\n",
              "      <td id=\"T_0d109_row16_col6\" class=\"data row16 col6\" >0.105226</td>\n",
              "      <td id=\"T_0d109_row16_col7\" class=\"data row16 col7\" >0.027266</td>\n",
              "      <td id=\"T_0d109_row16_col8\" class=\"data row16 col8\" >0.030026</td>\n",
              "      <td id=\"T_0d109_row16_col9\" class=\"data row16 col9\" >-0.028099</td>\n",
              "      <td id=\"T_0d109_row16_col10\" class=\"data row16 col10\" >0.100025</td>\n",
              "      <td id=\"T_0d109_row16_col11\" class=\"data row16 col11\" >-0.003626</td>\n",
              "      <td id=\"T_0d109_row16_col12\" class=\"data row16 col12\" >-0.165234</td>\n",
              "      <td id=\"T_0d109_row16_col13\" class=\"data row16 col13\" >-0.281177</td>\n",
              "      <td id=\"T_0d109_row16_col14\" class=\"data row16 col14\" >-0.195571</td>\n",
              "      <td id=\"T_0d109_row16_col15\" class=\"data row16 col15\" >-0.327653</td>\n",
              "      <td id=\"T_0d109_row16_col16\" class=\"data row16 col16\" >1.000000</td>\n",
              "      <td id=\"T_0d109_row16_col17\" class=\"data row16 col17\" >-0.011306</td>\n",
              "      <td id=\"T_0d109_row16_col18\" class=\"data row16 col18\" >0.011477</td>\n",
              "      <td id=\"T_0d109_row16_col19\" class=\"data row16 col19\" >-0.005978</td>\n",
              "    </tr>\n",
              "    <tr>\n",
              "      <th id=\"T_0d109_level0_row17\" class=\"row_heading level0 row17\" >gender_Female</th>\n",
              "      <td id=\"T_0d109_row17_col0\" class=\"data row17 col0\" >0.027924</td>\n",
              "      <td id=\"T_0d109_row17_col1\" class=\"data row17 col1\" >-0.021143</td>\n",
              "      <td id=\"T_0d109_row17_col2\" class=\"data row17 col2\" >-0.085617</td>\n",
              "      <td id=\"T_0d109_row17_col3\" class=\"data row17 col3\" >-0.054902</td>\n",
              "      <td id=\"T_0d109_row17_col4\" class=\"data row17 col4\" >0.024540</td>\n",
              "      <td id=\"T_0d109_row17_col5\" class=\"data row17 col5\" >-0.009027</td>\n",
              "      <td id=\"T_0d109_row17_col6\" class=\"data row17 col6\" >0.030483</td>\n",
              "      <td id=\"T_0d109_row17_col7\" class=\"data row17 col7\" >0.006340</td>\n",
              "      <td id=\"T_0d109_row17_col8\" class=\"data row17 col8\" >0.016685</td>\n",
              "      <td id=\"T_0d109_row17_col9\" class=\"data row17 col9\" >-0.011469</td>\n",
              "      <td id=\"T_0d109_row17_col10\" class=\"data row17 col10\" >0.032294</td>\n",
              "      <td id=\"T_0d109_row17_col11\" class=\"data row17 col11\" >0.026143</td>\n",
              "      <td id=\"T_0d109_row17_col12\" class=\"data row17 col12\" >-0.089120</td>\n",
              "      <td id=\"T_0d109_row17_col13\" class=\"data row17 col13\" >-0.059393</td>\n",
              "      <td id=\"T_0d109_row17_col14\" class=\"data row17 col14\" >-0.043603</td>\n",
              "      <td id=\"T_0d109_row17_col15\" class=\"data row17 col15\" >0.099111</td>\n",
              "      <td id=\"T_0d109_row17_col16\" class=\"data row17 col16\" >-0.011306</td>\n",
              "      <td id=\"T_0d109_row17_col17\" class=\"data row17 col17\" >1.000000</td>\n",
              "      <td id=\"T_0d109_row17_col18\" class=\"data row17 col18\" >-0.999597</td>\n",
              "      <td id=\"T_0d109_row17_col19\" class=\"data row17 col19\" >-0.016642</td>\n",
              "    </tr>\n",
              "    <tr>\n",
              "      <th id=\"T_0d109_level0_row18\" class=\"row_heading level0 row18\" >gender_Male</th>\n",
              "      <td id=\"T_0d109_row18_col0\" class=\"data row18 col0\" >-0.027623</td>\n",
              "      <td id=\"T_0d109_row18_col1\" class=\"data row18 col1\" >0.021275</td>\n",
              "      <td id=\"T_0d109_row18_col2\" class=\"data row18 col2\" >0.085717</td>\n",
              "      <td id=\"T_0d109_row18_col3\" class=\"data row18 col3\" >0.054580</td>\n",
              "      <td id=\"T_0d109_row18_col4\" class=\"data row18 col4\" >-0.024206</td>\n",
              "      <td id=\"T_0d109_row18_col5\" class=\"data row18 col5\" >0.009117</td>\n",
              "      <td id=\"T_0d109_row18_col6\" class=\"data row18 col6\" >-0.029936</td>\n",
              "      <td id=\"T_0d109_row18_col7\" class=\"data row18 col7\" >-0.005937</td>\n",
              "      <td id=\"T_0d109_row18_col8\" class=\"data row18 col8\" >-0.016534</td>\n",
              "      <td id=\"T_0d109_row18_col9\" class=\"data row18 col9\" >0.011496</td>\n",
              "      <td id=\"T_0d109_row18_col10\" class=\"data row18 col10\" >-0.032639</td>\n",
              "      <td id=\"T_0d109_row18_col11\" class=\"data row18 col11\" >-0.025971</td>\n",
              "      <td id=\"T_0d109_row18_col12\" class=\"data row18 col12\" >0.089283</td>\n",
              "      <td id=\"T_0d109_row18_col13\" class=\"data row18 col13\" >0.059658</td>\n",
              "      <td id=\"T_0d109_row18_col14\" class=\"data row18 col14\" >0.042738</td>\n",
              "      <td id=\"T_0d109_row18_col15\" class=\"data row18 col15\" >-0.098813</td>\n",
              "      <td id=\"T_0d109_row18_col16\" class=\"data row18 col16\" >0.011477</td>\n",
              "      <td id=\"T_0d109_row18_col17\" class=\"data row18 col17\" >-0.999597</td>\n",
              "      <td id=\"T_0d109_row18_col18\" class=\"data row18 col18\" >1.000000</td>\n",
              "      <td id=\"T_0d109_row18_col19\" class=\"data row18 col19\" >-0.011757</td>\n",
              "    </tr>\n",
              "    <tr>\n",
              "      <th id=\"T_0d109_level0_row19\" class=\"row_heading level0 row19\" >gender_Other</th>\n",
              "      <td id=\"T_0d109_row19_col0\" class=\"data row19 col0\" >-0.010659</td>\n",
              "      <td id=\"T_0d109_row19_col1\" class=\"data row19 col1\" >-0.004597</td>\n",
              "      <td id=\"T_0d109_row19_col2\" class=\"data row19 col2\" >-0.003343</td>\n",
              "      <td id=\"T_0d109_row19_col3\" class=\"data row19 col3\" >0.011489</td>\n",
              "      <td id=\"T_0d109_row19_col4\" class=\"data row19 col4\" >-0.011841</td>\n",
              "      <td id=\"T_0d109_row19_col5\" class=\"data row19 col5\" >-0.003166</td>\n",
              "      <td id=\"T_0d109_row19_col6\" class=\"data row19 col6\" >-0.019327</td>\n",
              "      <td id=\"T_0d109_row19_col7\" class=\"data row19 col7\" >-0.014217</td>\n",
              "      <td id=\"T_0d109_row19_col8\" class=\"data row19 col8\" >-0.005374</td>\n",
              "      <td id=\"T_0d109_row19_col9\" class=\"data row19 col9\" >-0.000920</td>\n",
              "      <td id=\"T_0d109_row19_col10\" class=\"data row19 col10\" >0.012092</td>\n",
              "      <td id=\"T_0d109_row19_col11\" class=\"data row19 col11\" >-0.006112</td>\n",
              "      <td id=\"T_0d109_row19_col12\" class=\"data row19 col12\" >-0.005514</td>\n",
              "      <td id=\"T_0d109_row19_col13\" class=\"data row19 col13\" >-0.009206</td>\n",
              "      <td id=\"T_0d109_row19_col14\" class=\"data row19 col14\" >0.030568</td>\n",
              "      <td id=\"T_0d109_row19_col15\" class=\"data row19 col15\" >-0.010728</td>\n",
              "      <td id=\"T_0d109_row19_col16\" class=\"data row19 col16\" >-0.005978</td>\n",
              "      <td id=\"T_0d109_row19_col17\" class=\"data row19 col17\" >-0.016642</td>\n",
              "      <td id=\"T_0d109_row19_col18\" class=\"data row19 col18\" >-0.011757</td>\n",
              "      <td id=\"T_0d109_row19_col19\" class=\"data row19 col19\" >1.000000</td>\n",
              "    </tr>\n",
              "  </tbody>\n",
              "</table>\n"
            ]
          },
          "metadata": {},
          "execution_count": 51
        }
      ]
    },
    {
      "cell_type": "markdown",
      "source": [
        "**We can not see a feature that is highly correlated to stroke.**\n",
        "Highly correlated is considered correlation more significant than 0.7.\n",
        "We do not see features that have a close correlation to this. This will also affect the choice of our model—it can be seen from the matrix that we would like to look for non-linear relationships between variables that will give us a good result. There are no significant linear. Relationships in our data.\n",
        "We would also like to find a significant correlation between the variables themselves. The only variables with a significant correlation are age and children. This makes sense because the older the person gets, the more likely they are to have children. However, this is not significant in itself for stroke detection."
      ],
      "metadata": {
        "id": "NUAse6R6TMPg"
      }
    },
    {
      "cell_type": "markdown",
      "source": [
        "Let's plot the stroke numbers to see if the dataset is balanced."
      ],
      "metadata": {
        "id": "D4h9lkivUifP"
      }
    },
    {
      "cell_type": "code",
      "source": [
        "stroke_counts = df['stroke'].value_counts()\n",
        "stroke_percentages = stroke_counts / len(df) * 100\n",
        "\n",
        "\n",
        "plt.pie(stroke_percentages, labels=['No Stroke', 'Stroke'], autopct='%1.1f%%')\n",
        "plt.title('Stroke Data')\n",
        "plt.show()"
      ],
      "metadata": {
        "colab": {
          "base_uri": "https://localhost:8080/",
          "height": 428
        },
        "id": "IGClGYBYRsts",
        "outputId": "fc76c7ad-eb17-48b1-e7dd-95c83e9916ec"
      },
      "execution_count": null,
      "outputs": [
        {
          "output_type": "display_data",
          "data": {
            "text/plain": [
              "<Figure size 640x480 with 1 Axes>"
            ],
            "image/png": "[encoded data removed]"
          },
          "metadata": {}
        }
      ]
    },
    {
      "cell_type": "markdown",
      "source": [
        "The data set is highly unbalanced.\n",
        "\n"
      ],
      "metadata": {
        "id": "KPzom5lYUBmy"
      }
    },
    {
      "cell_type": "code",
      "source": [
        "data = pd.read_csv(data_path)\n",
        "data.drop(['id', 'stroke'], axis=1, inplace=True)\n",
        "\n",
        "# Calculate the number of unique values in each column\n",
        "categorical_cols = ['ever_married', 'Residence_type', 'work_type','smoking_status','gender']\n",
        "# Calculate the number of unique values in each categorical column\n",
        "unique_values = data[categorical_cols].nunique()\n",
        "\n",
        "# Calculate the total number of rows in the dataframe\n",
        "total_rows = len(data)\n",
        "\n",
        "# Check if each categorical column is balanced\n",
        "for column in categorical_cols:\n",
        "    if unique_values[column] <= total_rows ** 0.5:\n",
        "        print(f\"Column '{column}' is balanced.\")\n",
        "    else:\n",
        "        print(f\"Column '{column}' is not balanced.\")\n",
        "\n"
      ],
      "metadata": {
        "colab": {
          "base_uri": "https://localhost:8080/"
        },
        "id": "2iCKd0m2iOq_",
        "outputId": "42db3f43-ca62-4a41-cb54-f5b9b10c77ff"
      },
      "execution_count": null,
      "outputs": [
        {
          "output_type": "stream",
          "name": "stdout",
          "text": [
            "Column 'ever_married' is balanced.\n",
            "Column 'Residence_type' is balanced.\n",
            "Column 'work_type' is balanced.\n",
            "Column 'smoking_status' is balanced.\n",
            "Column 'gender' is balanced.\n"
          ]
        }
      ]
    },
    {
      "cell_type": "markdown",
      "source": [
        "All the other categorical columns are balanced. That is great.\n",
        "Let's plot the distribution, calculate the statistical data, and see if we can find something valuable."
      ],
      "metadata": {
        "id": "eVDaNHYLj3cy"
      }
    },
    {
      "cell_type": "code",
      "source": [
        "# Identify the numerical columns\n",
        "numerical_cols = data.select_dtypes(include=['int64', 'float64','uint8']).columns\n",
        "\n",
        "# Loop through the numerical columns and find the distribution of each column\n",
        "for col in numerical_cols:\n",
        "    # Calculate the mean, standard deviation, skewness, and kurtosis\n",
        "    mean = data[col].mean()\n",
        "    std = data[col].std()\n",
        "    skew = data[col].skew()\n",
        "    kurt = data[col].kurtosis()\n",
        "\n",
        "    # Print the results\n",
        "    print(f\"Column: {col}\")\n",
        "    print(f\"Mean: {mean}\")\n",
        "    print(f\"Standard deviation: {std}\")\n",
        "    print(f\"Skewness: {skew}\")\n",
        "    print(f\"Kurtosis: {kurt}\")\n",
        "\n",
        "    # Create a histogram\n",
        "    plt.hist(data[col])\n",
        "    plt.xlabel('Value')\n",
        "    plt.ylabel('Frequency')\n",
        "    plt.title(f'Histogram of {col}')\n",
        "    plt.show()"
      ],
      "metadata": {
        "colab": {
          "base_uri": "https://localhost:8080/",
          "height": 1000
        },
        "id": "pjRH02meibsg",
        "outputId": "4106c194-5172-4ac7-d48d-be7d3cf39ffa"
      },
      "execution_count": null,
      "outputs": [
        {
          "output_type": "stream",
          "name": "stdout",
          "text": [
            "Column: age\n",
            "Mean: 43.226614481409\n",
            "Standard deviation: 22.61264672311349\n",
            "Skewness: -0.1370593225984694\n",
            "Kurtosis: -0.9910102432016696\n"
          ]
        },
        {
          "output_type": "display_data",
          "data": {
            "text/plain": [
              "<Figure size 640x480 with 1 Axes>"
            ],
            "image/png": "[encoded data removed]"
          },
          "metadata": {}
        },
        {
          "output_type": "stream",
          "name": "stdout",
          "text": [
            "Column: hypertension\n",
            "Mean: 0.0974559686888454\n",
            "Standard deviation: 0.29660667423379117\n",
            "Skewness: 2.7153916581245294\n",
            "Kurtosis: 5.375455600474597\n"
          ]
        },
        {
          "output_type": "display_data",
          "data": {
            "text/plain": [
              "<Figure size 640x480 with 1 Axes>"
            ],
            "image/png": "[encoded data removed]"
          },
          "metadata": {}
        },
        {
          "output_type": "stream",
          "name": "stdout",
          "text": [
            "Column: heart_disease\n",
            "Mean: 0.05401174168297456\n",
            "Standard deviation: 0.22606298750336543\n",
            "Skewness: 3.947243966661894\n",
            "Kurtosis: 13.586052216807259\n"
          ]
        },
        {
          "output_type": "display_data",
          "data": {
            "text/plain": [
              "<Figure size 640x480 with 1 Axes>"
            ],
            "image/png": "[encoded data removed]"
          },
          "metadata": {}
        },
        {
          "output_type": "stream",
          "name": "stdout",
          "text": [
            "Column: avg_glucose_level\n",
            "Mean: 106.1476771037182\n",
            "Standard deviation: 45.28356015058198\n",
            "Skewness: 1.5722838665030459\n",
            "Kurtosis: 1.6804785404038278\n"
          ]
        },
        {
          "output_type": "display_data",
          "data": {
            "text/plain": [
              "<Figure size 640x480 with 1 Axes>"
            ],
            "image/png": "[encoded data removed]"
          },
          "metadata": {}
        },
        {
          "output_type": "stream",
          "name": "stdout",
          "text": [
            "Column: bmi\n",
            "Mean: 28.893236911794666\n",
            "Standard deviation: 7.854066729680164\n",
            "Skewness: 1.0553402052962912\n",
            "Kurtosis: 3.3626591656236746\n"
          ]
        },
        {
          "output_type": "display_data",
          "data": {
            "text/plain": [
              "<Figure size 640x480 with 1 Axes>"
            ],
            "image/png": "[encoded data removed]"
          },
          "metadata": {}
        }
      ]
    },
    {
      "cell_type": "markdown",
      "source": [
        "We can see that heart attack and hypertension are both boolean types columns, so we change their type to boolean"
      ],
      "metadata": {
        "id": "oJf8ZSHGAlwa"
      }
    },
    {
      "cell_type": "code",
      "source": [
        "df['heart_disease'] = df['heart_disease'].astype(bool)\n",
        "df['hypertension'] = df['hypertension'].astype(bool)\n",
        "df.info()"
      ],
      "metadata": {
        "colab": {
          "base_uri": "https://localhost:8080/"
        },
        "id": "kBhBfsr38Poo",
        "outputId": "22fb8ef2-79ce-4d89-f3c0-775a2198a460"
      },
      "execution_count": null,
      "outputs": [
        {
          "output_type": "stream",
          "name": "stdout",
          "text": [
            "<class 'pandas.core.frame.DataFrame'>\n",
            "RangeIndex: 5110 entries, 0 to 5109\n",
            "Data columns (total 20 columns):\n",
            " #   Column                          Non-Null Count  Dtype  \n",
            "---  ------                          --------------  -----  \n",
            " 0   age                             5110 non-null   float64\n",
            " 1   hypertension                    5110 non-null   bool   \n",
            " 2   heart_disease                   5110 non-null   bool   \n",
            " 3   avg_glucose_level               5110 non-null   float64\n",
            " 4   bmi                             5110 non-null   float64\n",
            " 5   stroke                          5110 non-null   int64  \n",
            " 6   ever_married_Yes                5110 non-null   bool   \n",
            " 7   Residence_type_Urban            5110 non-null   bool   \n",
            " 8   work_type_Govt_job              5110 non-null   bool   \n",
            " 9   work_type_Never_worked          5110 non-null   bool   \n",
            " 10  work_type_Private               5110 non-null   bool   \n",
            " 11  work_type_Self-employed         5110 non-null   bool   \n",
            " 12  work_type_children              5110 non-null   bool   \n",
            " 13  smoking_status_Unknown          5110 non-null   bool   \n",
            " 14  smoking_status_formerly smoked  5110 non-null   bool   \n",
            " 15  smoking_status_never smoked     5110 non-null   bool   \n",
            " 16  smoking_status_smokes           5110 non-null   bool   \n",
            " 17  gender_Female                   5110 non-null   bool   \n",
            " 18  gender_Male                     5110 non-null   bool   \n",
            " 19  gender_Other                    5110 non-null   bool   \n",
            "dtypes: bool(16), float64(3), int64(1)\n",
            "memory usage: 239.7 KB\n"
          ]
        }
      ]
    },
    {
      "cell_type": "markdown",
      "source": [
        "All except three columns are boolean features.\n",
        "Age, BMI, and glucose levels are numerical features. The first two are normally distributed, and the last one looks like a binomial-logit normal distribution.\n",
        "We can see that the distributions make sense.\n",
        "\n",
        "\n",
        " So we can move on to determining outliers.\n",
        "\n"
      ],
      "metadata": {
        "id": "UfSXadkrAiuk"
      }
    },
    {
      "cell_type": "markdown",
      "source": [
        "To check outliers, we will use the **Isolation forest** model. The model gives a score to each outlier point. We would like to identify how many such extreme points there are in our dataset and, by doing so, see if they have an effect and whether we would like to consider them.\n",
        "Isolation Forest is an algorithm for data anomaly detection. Isolation Forest detects anomalies using binary trees. In essence, the algorithm relies upon the characteristics of anomalies, i.e., being few and different, in order to detect anomalies."
      ],
      "metadata": {
        "id": "JeYAllzoZTnN"
      }
    },
    {
      "cell_type": "code",
      "source": [
        "from sklearn.ensemble import IsolationForest\n",
        "\n",
        "# Create an Isolation Forest model\n",
        "model = IsolationForest(n_estimators=100, contamination=0.01)\n",
        "nomerical_df = df[['bmi','avg_glucose_level', 'age']]\n",
        "# Fit the model to the data\n",
        "model.fit(nomerical_df)\n",
        "\n",
        "# Predict the outlier scores for each data point\n",
        "outlier_scores = model.predict(nomerical_df)\n",
        "\n",
        "# Identify the data points with the highest outlier scores\n",
        "outliers = nomerical_df[outlier_scores == -1]\n",
        "\n",
        "# Print the outliers\n",
        "print(outliers)\n",
        "\n",
        "\n"
      ],
      "metadata": {
        "colab": {
          "base_uri": "https://localhost:8080/"
        },
        "id": "7vB-9TmllLUB",
        "outputId": "33e4ac1b-48e0-4d42-f367-fb954ba365cf"
      },
      "execution_count": null,
      "outputs": [
        {
          "output_type": "stream",
          "name": "stderr",
          "text": [
            "/usr/local/lib/python3.10/dist-packages/sklearn/base.py:439: UserWarning: X does not have valid feature names, but IsolationForest was fitted with feature names\n",
            "  warnings.warn(\n"
          ]
        },
        {
          "output_type": "stream",
          "name": "stdout",
          "text": [
            "            bmi  avg_glucose_level    age\n",
            "17    48.900000             233.29  52.00\n",
            "94    56.600000             224.10  45.00\n",
            "161   45.500000             242.52  70.00\n",
            "218   54.600000             205.84  74.00\n",
            "230   60.900000             129.54  57.00\n",
            "317   64.800000              78.40  52.00\n",
            "423   60.200000             170.05  61.00\n",
            "498   71.900000             210.48  42.00\n",
            "872   78.000000              70.03  23.00\n",
            "1003  53.400000             206.25  50.00\n",
            "1012  21.100000             246.34  81.00\n",
            "1252  54.800000             206.40  55.00\n",
            "1449  47.500000             253.16  82.00\n",
            "1477  66.800000              72.63  53.00\n",
            "1493  48.500000             168.15  18.00\n",
            "1543  15.700000             242.84  33.00\n",
            "1557  49.800000              56.63  21.00\n",
            "1686  51.800000             234.82  59.00\n",
            "1797  57.700000             187.52  62.00\n",
            "1961  49.800000             212.97  40.00\n",
            "1973  17.000000             206.25   4.00\n",
            "1975  56.100000             231.69  63.00\n",
            "2019  97.600000              61.67  17.00\n",
            "2066  13.700000             155.14   2.00\n",
            "2129  24.500000             199.83   1.00\n",
            "2170  45.400000             231.50  34.00\n",
            "2214  15.700000             162.93   1.80\n",
            "2338  22.900000             233.71  14.00\n",
            "2443  53.500000              57.43  48.00\n",
            "2536  14.200000             227.98  61.00\n",
            "2636  63.300000              85.55  24.00\n",
            "2708  61.200000              98.27  52.00\n",
            "2917  58.100000             215.81  49.00\n",
            "3088  52.700000             205.01  66.00\n",
            "3164  12.800000             159.39   1.08\n",
            "3280  51.900000             228.05  68.00\n",
            "3362  15.000000             214.77  70.00\n",
            "3444  52.500000             239.19  45.00\n",
            "3524  52.900000             209.15  58.00\n",
            "3655  61.600000             118.46  52.00\n",
            "3738  53.800000             219.70  49.00\n",
            "3759  54.300000             198.30  73.00\n",
            "3784  47.900000             218.60  38.00\n",
            "3805  55.000000             218.10  45.00\n",
            "3977  57.200000             125.63  49.00\n",
            "4010  64.400000              57.96  27.00\n",
            "4030  92.000000              56.90  38.00\n",
            "4263  42.600000             247.87  37.00\n",
            "4290  57.200000             221.08  48.00\n",
            "4646  60.900000             107.72  51.00\n",
            "4757  56.600000             211.83  51.00\n",
            "4975  22.114005             201.25   6.00\n"
          ]
        }
      ]
    },
    {
      "cell_type": "markdown",
      "source": [
        "We see strange things like BMI values larger than 60, which means hyper-obesity. Some of them are more than 70, and by very good chance, they have the wrong values. We will see if removing these values will make our model perform better.\n",
        "\n",
        "Let's start with the entire dataset first."
      ],
      "metadata": {
        "id": "y9NRhPXwvSts"
      }
    },
    {
      "cell_type": "markdown",
      "source": [
        "# Model"
      ],
      "metadata": {
        "id": "6Cd2bZKbbIV5"
      }
    },
    {
      "cell_type": "markdown",
      "source": [
        "We need to handle our unbalanced dataset. The issue of class imbalance can result in a serious bias towards the majority class, reducing the classification performance and increasing the number of false nagatives. How can we alleviate the issue? The most commonly used techniques is data resampling either under-sampling the majority of the class, or over-sampling the minority class, or a mix of both."
      ],
      "metadata": {
        "id": "PbD9VGrYpZs0"
      }
    },
    {
      "cell_type": "markdown",
      "source": [
        "One of the best way to hendle unbalanced data is ADASYN (Adaptive Synthetic Sampling). ADASYN is a technique used to generate synthetic samples for the minority class to balance out the dataset."
      ],
      "metadata": {
        "id": "l1lSD_UHpson"
      }
    },
    {
      "cell_type": "code",
      "source": [
        "from sklearn.model_selection import train_test_split\n",
        "\n",
        "# Separate features and target\n",
        "features = df.drop('stroke', axis=1)\n",
        "target = df['stroke']\n",
        "for column in features.columns:\n",
        "  # Check if the column is of type \"bool\"\n",
        "  if df[column].dtype == \"bool\":\n",
        "    # Replace True with 1 and False with 0\n",
        "    features[column] = features[column].replace({True: 1, False: 0})\n",
        "target = target.replace({True: 1, False: 0})\n",
        "\n",
        "\n",
        "\n",
        "\n",
        "# Split the data into training and testing sets\n",
        "X_train, X_test, y_train, y_test = train_test_split(features, target, test_size=0.20, random_state=42, stratify=target)\n",
        "\n",
        "# Print the number of samples in each set\n",
        "print(f\"Number of training samples: {X_train.shape[0]}\")\n",
        "print(f\"Number of testing samples: {X_test.shape[0]}\")"
      ],
      "metadata": {
        "colab": {
          "base_uri": "https://localhost:8080/"
        },
        "id": "aaebgm_UsrMD",
        "outputId": "f8e50df4-a378-4def-b577-7fa91a69f19b"
      },
      "execution_count": null,
      "outputs": [
        {
          "output_type": "stream",
          "name": "stdout",
          "text": [
            "Number of training samples: 4088\n",
            "Number of testing samples: 1022\n"
          ]
        }
      ]
    },
    {
      "cell_type": "code",
      "source": [
        "\n",
        "\n",
        "\n",
        "# Step 5: Apply ADASYN\n",
        "adasyn = ADASYN(random_state=42)\n",
        "X_train_resampled, y_train_resampled = adasyn.fit_resample(X_train, y_train)\n",
        "\n",
        "# Print the number of samples in each set\n",
        "print(f\"Number of training samples after resample: {X_train_resampled.shape[0]}\")\n",
        "\n",
        "\n"
      ],
      "metadata": {
        "colab": {
          "base_uri": "https://localhost:8080/"
        },
        "id": "w0faUtrPpqz8",
        "outputId": "91c2980e-77f9-4b52-f80a-573b18384774"
      },
      "execution_count": null,
      "outputs": [
        {
          "output_type": "stream",
          "name": "stdout",
          "text": [
            "Number of training samples after resample: 7743\n"
          ]
        }
      ]
    },
    {
      "cell_type": "code",
      "source": [
        "from sklearn.ensemble import RandomForestClassifier\n",
        "\n",
        "\n",
        "class_weight = dict({1:10, 0:1})\n",
        "\n",
        "model = RandomForestClassifier(bootstrap=True,\n",
        "            class_weight=class_weight,\n",
        "            criterion='gini',\n",
        "            max_depth=8, max_leaf_nodes=None,\n",
        "            min_impurity_decrease=0.0,\n",
        "            min_samples_leaf=4, min_samples_split=10,\n",
        "            min_weight_fraction_leaf=0.0, n_estimators=100,\n",
        "            oob_score=False,\n",
        "            random_state=42,\n",
        "            verbose=0, warm_start=False)\n",
        "model.fit(X_train_resampled, y_train_resampled)\n",
        "y_pred = model.predict(X_test)\n",
        "accuracy = accuracy_score(y_test, y_pred)\n",
        "report = classification_report(y_test, y_pred)\n",
        "fpr, tpr, thresholds = roc_curve(y_test,y_pred)\n",
        "print('ROC AUC:', roc_auc)\n",
        "print(\"Accuracy:\", accuracy)\n",
        "print(\"Classification Report:\\n\", report)\n",
        "\n",
        "\n",
        "\n",
        "# Plot the ROC curve\n",
        "plt.plot([0, 1], [0, 1], 'k--') # diagonal line\n",
        "plt.plot(fpr, tpr)\n",
        "plt.xlabel('False Positive Rate')\n",
        "plt.ylabel('True Positive Rate')\n",
        "plt.title('ROC Curve RF')\n",
        "plt.show()"
      ],
      "metadata": {
        "colab": {
          "base_uri": "https://localhost:8080/",
          "height": 680
        },
        "id": "AiiMCoN4NFAR",
        "outputId": "73eaa547-d720-43f9-f07c-6a0af595a7c7"
      },
      "execution_count": null,
      "outputs": [
        {
          "output_type": "stream",
          "name": "stdout",
          "text": [
            "ROC AUC: 0.7370987654320988\n",
            "Accuracy: 0.6262230919765166\n",
            "Classification Report:\n",
            "               precision    recall  f1-score   support\n",
            "\n",
            "           0       0.99      0.61      0.76       972\n",
            "           1       0.10      0.86      0.18        50\n",
            "\n",
            "    accuracy                           0.63      1022\n",
            "   macro avg       0.55      0.74      0.47      1022\n",
            "weighted avg       0.95      0.63      0.73      1022\n",
            "\n"
          ]
        },
        {
          "output_type": "display_data",
          "data": {
            "text/plain": [
              "<Figure size 640x480 with 1 Axes>"
            ],
            "image/png": "[encoded data removed]"
          },
          "metadata": {}
        }
      ]
    },
    {
      "cell_type": "markdown",
      "source": [
        "Now after we over smapled the data with ADASYN, we train our model."
      ],
      "metadata": {
        "id": "Lp1zpq8cxhAS"
      }
    },
    {
      "cell_type": "code",
      "source": [
        "# Step 6: Model Training\n",
        "model = SVC(kernel='rbf')  # Example model, you can use any other classifier\n",
        "model.fit(X_train_resampled, y_train_resampled)\n",
        "\n",
        "# Step 7: Model Evaluation\n",
        "y_pred = model.predict(X_test)\n",
        "accuracy = accuracy_score(y_test, y_pred)\n",
        "report = classification_report(y_test, y_pred)\n",
        "\n",
        "fpr, tpr, thresholds = roc_curve(y_test,y_pred)\n",
        "print('ROC AUC:', roc_auc)\n",
        "print(\"Accuracy:\", accuracy)\n",
        "print(\"Classification Report:\\n\", report)\n",
        "\n",
        "\n",
        "# Plot the ROC curve\n",
        "plt.plot([0, 1], [0, 1], 'k--') # diagonal line\n",
        "plt.plot(fpr, tpr)\n",
        "plt.xlabel('False Positive Rate')\n",
        "plt.ylabel('True Positive Rate')\n",
        "plt.title('ROC Curve SVM')\n",
        "plt.show()"
      ],
      "metadata": {
        "colab": {
          "base_uri": "https://localhost:8080/",
          "height": 680
        },
        "id": "PMA1cJKEprfK",
        "outputId": "717aa867-e160-4f26-9abc-c86cadff3051"
      },
      "execution_count": null,
      "outputs": [
        {
          "output_type": "stream",
          "name": "stdout",
          "text": [
            "ROC AUC: 0.7370987654320988\n",
            "Accuracy: 0.7211350293542075\n",
            "Classification Report:\n",
            "               precision    recall  f1-score   support\n",
            "\n",
            "           0       0.99      0.72      0.83       972\n",
            "           1       0.13      0.80      0.22        50\n",
            "\n",
            "    accuracy                           0.72      1022\n",
            "   macro avg       0.56      0.76      0.52      1022\n",
            "weighted avg       0.94      0.72      0.80      1022\n",
            "\n"
          ]
        },
        {
          "output_type": "display_data",
          "data": {
            "text/plain": [
              "<Figure size 640x480 with 1 Axes>"
            ],
            "image/png": "[encoded data removed]"
          },
          "metadata": {}
        }
      ]
    },
    {
      "cell_type": "markdown",
      "source": [
        "We can see that Random Forest and SVM gave different results.\n",
        "\n",
        "The precision for both models was great for predicting nonstroke data - 0.99.\n",
        "So, 99% of the patients that the models predicted were nonstroke.\n",
        "However, regarding the recall, the random forest model falls short with a rate of 0.61, compared to the SVM model's 0.72. This means that only 61% of the nonstroke cases were correctly identified by the random forest model, while the SVM model managed to identify 72%.\n",
        "In the stroke patients, we received a 0.1 precision in the random forest model and 0.13 in the SVM model. So, the SVM did slightly better in accuracy. predicting The patients with strokes. On the other hand, the recall in this case is better in the random forest model - 0.86 compared to 0.8.\n",
        "\n",
        "So, how should we choose the best model? We can see that no model did a better job than the other. Each model is better in different matrics.\n",
        "Two things can help us choose:\n",
        "1. The weighted F1 score that combines both metrics for both cases. In this case, the SVM model performed better - 0.8 compared to 0.73.\n",
        "2. How big is the data? The SVM model is more complex to run with a large dataset compared to the random forest, which is lighter and can be run in multiple Cores or even a GPU because each tree is trained separately. The dataset is small, so that is not an issue.\n",
        "\n",
        "**The SVM model won this battle.**\n",
        "\n",
        "\n"
      ],
      "metadata": {
        "id": "CD6KDLBK6Xt5"
      }
    },
    {
      "cell_type": "markdown",
      "source": [
        "# Summary\n",
        "\n",
        "In this work, we took a stroke dataset from Kaggle and tried to make a model that could predict if a person will have a stroke from features like marriage, BMI,  age, etc.\n",
        "After cleaning the data, we encountered missing values in the BMI column. Recognizing that the data followed a normal distribution, we opted for a linear regression model to impute these missing values. This technique, specifically designed for such scenarios, proved an effective tool in our data analysis process. Algorithm for this task. We saw that only a few points received a big anomaly score means that the anomaly points in our data won't influence our results.\n",
        "We investigated our data and found that it needs to be more balanced. The stroke data is less than 5% of the data, and we attacked this problem with the ADASYN algorithm by updating our dataset with synthetic data points of the column we want to balance.\n",
        "The last part involved training two models: a Random forest classifier with class weights and an SVM model with an Rbf filter.\n",
        "We discussed the results and decided that the SVM model gives the best results.\n",
        "\n",
        "\n",
        "\n"
      ],
      "metadata": {
        "id": "2sn4FrxZB3qo"
      }
    },
    {
      "cell_type": "markdown",
      "source": [
        "I want to use and ensemble model that uses Random Forest and Support Vector Machine regressor with RBF kernel - two of the best models for reggration problems."
      ],
      "metadata": {
        "id": "x_eo_Rt7y0SN"
      }
    },
    {
      "cell_type": "code",
      "source": [
        "# Create a Random Forest regressor\n",
        "rf = RandomForestRegressor()\n",
        "\n",
        "# Create a Support Vector Machine regressor with RBF kernel\n",
        "svm = SVR(kernel='rbf')\n",
        "\n",
        "\n",
        "# Define the hyperparameter grids for each model\n",
        "rf_param_grid = {\n",
        "    'n_estimators': [100, 200, 300],\n",
        "    'max_depth': [None, 5, 10],\n",
        "    'min_samples_split': [2, 5, 10],\n",
        "    'min_samples_leaf': [1, 2, 4]\n",
        "}\n",
        "\n",
        "svm_param_grid = {\n",
        "    'C': [1, 10, 100],\n",
        "    'gamma': [0.1, 0.01, 0.001],\n",
        "    'kernel': ['rbf']\n",
        "}\n",
        "\n",
        "# Create the GridSearchCV objects for each model\n",
        "rf_grid_search = GridSearchCV(rf, rf_param_grid, cv=5)\n",
        "svm_grid_search = GridSearchCV(svm, svm_param_grid, cv=5)\n",
        "\n",
        "# Fit the GridSearchCV objects to the training data\n",
        "rf_grid_search.fit(X_train, y_train)\n",
        "svm_grid_search.fit(X_train, y_train)\n",
        "\n",
        "# Get the best hyperparameters for each model\n",
        "best_rf_params = rf_grid_search.best_params_\n",
        "best_svm_params = svm_grid_search.best_params_\n",
        "\n",
        "# Create new models with the best hyperparameters\n",
        "rf_best = RandomForestRegressor(**best_rf_params)\n",
        "svm_best = SVR(**best_svm_params)\n",
        "\n",
        "# Combine the two models using a voting ensemble\n",
        "ensemble = VotingRegressor(estimators=[('rf', rf_best), ('svm', svm_best)])\n",
        "\n",
        "# Fit the ensemble model to the training data\n",
        "ensemble.fit(X_train, y_train)\n",
        "\n",
        "# Evaluate the ensemble model on the test data\n",
        "ensemble_score = ensemble.score(X_test, y_test)\n",
        "\n",
        "# Print the ensemble score\n",
        "print(f\"Ensemble score: {ensemble_score}\")"
      ],
      "metadata": {
        "colab": {
          "base_uri": "https://localhost:8080/"
        },
        "id": "Urzw2HHkyu5Q",
        "outputId": "9b7df257-32d5-4709-9590-4594d55390c2"
      },
      "execution_count": null,
      "outputs": [
        {
          "output_type": "stream",
          "name": "stdout",
          "text": [
            "Ensemble score: 0.0588260094060149\n"
          ]
        }
      ]
    },
    {
      "cell_type": "code",
      "source": [
        "from sklearn.ensemble import RandomForestClassifier\n",
        "from sklearn.model_selection import GridSearchCV\n",
        "\n",
        "\n",
        "\n",
        "# Create a Random Forest classifier\n",
        "rf = RandomForestClassifier()\n",
        "\n",
        "# Define the hyperparameter grid\n",
        "param_grid = {\n",
        "    'n_estimators': [50, 100, 200],\n",
        "    'max_depth': [None, 5, 10],\n",
        "    'min_samples_split': [2, 5, 10],\n",
        "    'min_samples_leaf': [1, 2, 4]\n",
        "}\n",
        "\n",
        "# Create the GridSearchCV object\n",
        "grid_search = GridSearchCV(rf, param_grid, cv=5, n_jobs=-1)\n",
        "\n",
        "# Fit the GridSearchCV object to the training data\n",
        "grid_search.fit(X_train, y_train)\n",
        "\n",
        "# Get the best hyperparameters\n",
        "best_params = grid_search.best_params_\n",
        "\n",
        "# Create a new model with the best hyperparameters\n",
        "rf_best = RandomForestClassifier(**best_params)\n",
        "\n",
        "# Fit the new model to the training data\n",
        "rf_best.fit(X_train, y_train)\n",
        "\n",
        "# Evaluate the new model on the test data\n",
        "rf_best_score = rf_best.score(X_test, y_test)\n",
        "\n",
        "# Print the new model score\n",
        "print(f\"Random Forest (best) score: {rf_best_score}\")"
      ],
      "metadata": {
        "colab": {
          "base_uri": "https://localhost:8080/"
        },
        "id": "eyp2jAwi4fdL",
        "outputId": "0f28c84f-4529-45c7-b147-f92611c75e60"
      },
      "execution_count": null,
      "outputs": [
        {
          "output_type": "stream",
          "name": "stdout",
          "text": [
            "Random Forest (best) score: 0.9510763209393346\n"
          ]
        }
      ]
    },
    {
      "cell_type": "code",
      "source": [],
      "metadata": {
        "id": "PtmK6ONu6t4q"
      },
      "execution_count": null,
      "outputs": []
    },
    {
      "cell_type": "code",
      "source": [
        "import matplotlib.pyplot as plt\n",
        "import seaborn as sns\n",
        "from sklearn.metrics import confusion_matrix\n",
        "\n",
        "# Predict the classes for the test data using the ensemble model\n",
        "y_pred = rf_best.predict(X_test)\n",
        "\n",
        "# Create a confusion matrix\n",
        "cm = confusion_matrix(y_test, y_pred)\n",
        "\n",
        "# Plot the confusion matrix\n",
        "plt.figure(figsize=(8, 6))\n",
        "sns.heatmap(cm, annot=True, fmt=\"d\", cmap=\"Blues\")\n",
        "plt.xlabel(\"Predicted Class\")\n",
        "plt.ylabel(\"Actual Class\")\n",
        "plt.title(\"Confusion Matrix for Ensemble Model\")\n",
        "plt.show()"
      ],
      "metadata": {
        "colab": {
          "base_uri": "https://localhost:8080/",
          "height": 564
        },
        "id": "fMBab4suzyoM",
        "outputId": "ecd0455a-4d2d-43d5-eec8-f4285ed38827"
      },
      "execution_count": null,
      "outputs": [
        {
          "output_type": "display_data",
          "data": {
            "text/plain": [
              "<Figure size 800x600 with 2 Axes>"
            ],
            "image/png": "[encoded data removed]"
          },
          "metadata": {}
        }
      ]
    },
    {
      "cell_type": "code",
      "source": [
        "from sklearn.metrics import f1_score\n",
        "\n",
        "# Calculate the F1 score\n",
        "f1 = f1_score(y_test, y_pred)\n",
        "\n",
        "# Print the F1 score\n",
        "print(f\"F1 score: {f1}\")"
      ],
      "metadata": {
        "colab": {
          "base_uri": "https://localhost:8080/"
        },
        "id": "_rTA6of23r52",
        "outputId": "3b54e153-4e89-468b-a1ba-2018a95b902b"
      },
      "execution_count": null,
      "outputs": [
        {
          "output_type": "stream",
          "name": "stdout",
          "text": [
            "F1 score: 0.0\n"
          ]
        }
      ]
    },
    {
      "cell_type": "code",
      "source": [],
      "metadata": {
        "id": "09tbRO_OB6JS"
      },
      "execution_count": null,
      "outputs": []
    }
  ]
}