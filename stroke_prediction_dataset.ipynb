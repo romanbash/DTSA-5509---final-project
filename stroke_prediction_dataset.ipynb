{
  "nbformat": 4,
  "nbformat_minor": 0,
  "metadata": {
    "colab": {
      "provenance": [],
      "authorship_tag": "ABX9TyPV0Sm0T6bWkUUtrJy1CXgl",
      "include_colab_link": true
    },
    "kernelspec": {
      "name": "python3",
      "display_name": "Python 3"
    },
    "language_info": {
      "name": "python"
    }
  },
  "cells": [
    {
      "cell_type": "markdown",
      "metadata": {
        "id": "view-in-github",
        "colab_type": "text"
      },
      "source": [
        "<a href=\"https://colab.research.google.com/github/romanbash/DTSA-5509---final-project/blob/main/stroke_prediction_dataset.ipynb\" target=\"_parent\"><img src=\"https://colab.research.google.com/assets/colab-badge.svg\" alt=\"Open In Colab\"/></a>"
      ]
    },
    {
      "cell_type": "code",
      "execution_count": 13,
      "metadata": {
        "id": "TD13doLdeQhm"
      },
      "outputs": [],
      "source": [
        "import pandas as pd\n",
        "import matplotlib.pyplot as plt"
      ]
    },
    {
      "cell_type": "code",
      "source": [
        "# prompt: mount to google drive\n",
        "\n",
        "from google.colab import drive\n",
        "drive.mount('/content/drive')\n",
        "\n",
        "data_path = '/content/drive/MyDrive/DTSA 5509 - final project/healthcare-dataset-stroke-data.csv'"
      ],
      "metadata": {
        "colab": {
          "base_uri": "https://localhost:8080/"
        },
        "id": "nq81q4mIemfj",
        "outputId": "063ac7b1-c4c6-4849-a216-260fb32700c3"
      },
      "execution_count": 7,
      "outputs": [
        {
          "output_type": "stream",
          "name": "stdout",
          "text": [
            "Drive already mounted at /content/drive; to attempt to forcibly remount, call drive.mount(\"/content/drive\", force_remount=True).\n"
          ]
        }
      ]
    },
    {
      "cell_type": "code",
      "source": [
        "df = pd.read_csv(data_path)\n"
      ],
      "metadata": {
        "id": "qn7coj24ez53"
      },
      "execution_count": 8,
      "outputs": []
    },
    {
      "cell_type": "code",
      "source": [
        "# prompt: are there mising data?\n",
        "\n",
        "missing_data = df.isnull().sum()\n",
        "\n",
        "# Print the number of missing values in each column\n",
        "print(missing_data)\n"
      ],
      "metadata": {
        "colab": {
          "base_uri": "https://localhost:8080/"
        },
        "id": "cAiZbfWffLws",
        "outputId": "ea46e31c-596c-44b3-8298-bc4c61aa4c23"
      },
      "execution_count": 9,
      "outputs": [
        {
          "output_type": "stream",
          "name": "stdout",
          "text": [
            "id                     0\n",
            "gender                 0\n",
            "age                    0\n",
            "hypertension           0\n",
            "heart_disease          0\n",
            "ever_married           0\n",
            "work_type              0\n",
            "Residence_type         0\n",
            "avg_glucose_level      0\n",
            "bmi                  201\n",
            "smoking_status         0\n",
            "stroke                 0\n",
            "dtype: int64\n"
          ]
        }
      ]
    },
    {
      "cell_type": "code",
      "source": [
        "df.info()"
      ],
      "metadata": {
        "colab": {
          "base_uri": "https://localhost:8080/"
        },
        "id": "BkF5F5nBhPZG",
        "outputId": "fe5cffef-f52b-4bf5-991e-82ba30bdfd7b"
      },
      "execution_count": 11,
      "outputs": [
        {
          "output_type": "stream",
          "name": "stdout",
          "text": [
            "<class 'pandas.core.frame.DataFrame'>\n",
            "RangeIndex: 5110 entries, 0 to 5109\n",
            "Data columns (total 12 columns):\n",
            " #   Column             Non-Null Count  Dtype  \n",
            "---  ------             --------------  -----  \n",
            " 0   id                 5110 non-null   int64  \n",
            " 1   gender             5110 non-null   object \n",
            " 2   age                5110 non-null   float64\n",
            " 3   hypertension       5110 non-null   int64  \n",
            " 4   heart_disease      5110 non-null   int64  \n",
            " 5   ever_married       5110 non-null   object \n",
            " 6   work_type          5110 non-null   object \n",
            " 7   Residence_type     5110 non-null   object \n",
            " 8   avg_glucose_level  5110 non-null   float64\n",
            " 9   bmi                4909 non-null   float64\n",
            " 10  smoking_status     5110 non-null   object \n",
            " 11  stroke             5110 non-null   int64  \n",
            "dtypes: float64(3), int64(4), object(5)\n",
            "memory usage: 479.2+ KB\n"
          ]
        }
      ]
    },
    {
      "cell_type": "code",
      "source": [
        "# prompt: i want to plot the corolation between columns\n",
        "\n",
        "df.corr().style.background_gradient(cmap='coolwarm')\n"
      ],
      "metadata": {
        "colab": {
          "base_uri": "https://localhost:8080/",
          "height": 324
        },
        "id": "DfjBNyqGfikP",
        "outputId": "fcdb8b69-1330-4ba0-e581-e6d4e2a93d75"
      },
      "execution_count": 10,
      "outputs": [
        {
          "output_type": "stream",
          "name": "stderr",
          "text": [
            "<ipython-input-10-514599045eea>:3: FutureWarning: The default value of numeric_only in DataFrame.corr is deprecated. In a future version, it will default to False. Select only valid columns or specify the value of numeric_only to silence this warning.\n",
            "  df.corr().style.background_gradient(cmap='coolwarm')\n"
          ]
        },
        {
          "output_type": "execute_result",
          "data": {
            "text/plain": [
              "<pandas.io.formats.style.Styler at 0x7e15818c6740>"
            ],
            "text/html": [
              "<style type=\"text/css\">\n",
              "#T_cb148_row0_col0, #T_cb148_row1_col1, #T_cb148_row2_col2, #T_cb148_row3_col3, #T_cb148_row4_col4, #T_cb148_row5_col5, #T_cb148_row6_col6 {\n",
              "  background-color: #b40426;\n",
              "  color: #f1f1f1;\n",
              "}\n",
              "#T_cb148_row0_col1, #T_cb148_row0_col2, #T_cb148_row0_col3, #T_cb148_row0_col4, #T_cb148_row0_col5, #T_cb148_row0_col6, #T_cb148_row3_col0, #T_cb148_row4_col0 {\n",
              "  background-color: #3b4cc0;\n",
              "  color: #f1f1f1;\n",
              "}\n",
              "#T_cb148_row1_col0, #T_cb148_row2_col0, #T_cb148_row5_col0, #T_cb148_row6_col0 {\n",
              "  background-color: #3c4ec2;\n",
              "  color: #f1f1f1;\n",
              "}\n",
              "#T_cb148_row1_col2, #T_cb148_row2_col1 {\n",
              "  background-color: #96b7ff;\n",
              "  color: #000000;\n",
              "}\n",
              "#T_cb148_row1_col3 {\n",
              "  background-color: #92b4fe;\n",
              "  color: #000000;\n",
              "}\n",
              "#T_cb148_row1_col4, #T_cb148_row4_col1 {\n",
              "  background-color: #88abfd;\n",
              "  color: #000000;\n",
              "}\n",
              "#T_cb148_row1_col5, #T_cb148_row5_col1 {\n",
              "  background-color: #a9c6fd;\n",
              "  color: #000000;\n",
              "}\n",
              "#T_cb148_row1_col6 {\n",
              "  background-color: #89acfd;\n",
              "  color: #000000;\n",
              "}\n",
              "#T_cb148_row2_col3 {\n",
              "  background-color: #5d7ce6;\n",
              "  color: #f1f1f1;\n",
              "}\n",
              "#T_cb148_row2_col4, #T_cb148_row4_col5, #T_cb148_row5_col4 {\n",
              "  background-color: #7295f4;\n",
              "  color: #f1f1f1;\n",
              "}\n",
              "#T_cb148_row2_col5, #T_cb148_row5_col2 {\n",
              "  background-color: #6f92f3;\n",
              "  color: #f1f1f1;\n",
              "}\n",
              "#T_cb148_row2_col6, #T_cb148_row6_col2 {\n",
              "  background-color: #6180e9;\n",
              "  color: #f1f1f1;\n",
              "}\n",
              "#T_cb148_row3_col1 {\n",
              "  background-color: #90b2fe;\n",
              "  color: #000000;\n",
              "}\n",
              "#T_cb148_row3_col2 {\n",
              "  background-color: #5a78e4;\n",
              "  color: #f1f1f1;\n",
              "}\n",
              "#T_cb148_row3_col4, #T_cb148_row4_col3 {\n",
              "  background-color: #6e90f2;\n",
              "  color: #f1f1f1;\n",
              "}\n",
              "#T_cb148_row3_col5, #T_cb148_row5_col6 {\n",
              "  background-color: #455cce;\n",
              "  color: #f1f1f1;\n",
              "}\n",
              "#T_cb148_row3_col6, #T_cb148_row6_col4 {\n",
              "  background-color: #6384eb;\n",
              "  color: #f1f1f1;\n",
              "}\n",
              "#T_cb148_row4_col2 {\n",
              "  background-color: #7093f3;\n",
              "  color: #f1f1f1;\n",
              "}\n",
              "#T_cb148_row4_col6 {\n",
              "  background-color: #6282ea;\n",
              "  color: #f1f1f1;\n",
              "}\n",
              "#T_cb148_row5_col3, #T_cb148_row6_col5 {\n",
              "  background-color: #465ecf;\n",
              "  color: #f1f1f1;\n",
              "}\n",
              "#T_cb148_row6_col1 {\n",
              "  background-color: #8badfd;\n",
              "  color: #000000;\n",
              "}\n",
              "#T_cb148_row6_col3 {\n",
              "  background-color: #6485ec;\n",
              "  color: #f1f1f1;\n",
              "}\n",
              "</style>\n",
              "<table id=\"T_cb148\" class=\"dataframe\">\n",
              "  <thead>\n",
              "    <tr>\n",
              "      <th class=\"blank level0\" >&nbsp;</th>\n",
              "      <th id=\"T_cb148_level0_col0\" class=\"col_heading level0 col0\" >id</th>\n",
              "      <th id=\"T_cb148_level0_col1\" class=\"col_heading level0 col1\" >age</th>\n",
              "      <th id=\"T_cb148_level0_col2\" class=\"col_heading level0 col2\" >hypertension</th>\n",
              "      <th id=\"T_cb148_level0_col3\" class=\"col_heading level0 col3\" >heart_disease</th>\n",
              "      <th id=\"T_cb148_level0_col4\" class=\"col_heading level0 col4\" >avg_glucose_level</th>\n",
              "      <th id=\"T_cb148_level0_col5\" class=\"col_heading level0 col5\" >bmi</th>\n",
              "      <th id=\"T_cb148_level0_col6\" class=\"col_heading level0 col6\" >stroke</th>\n",
              "    </tr>\n",
              "  </thead>\n",
              "  <tbody>\n",
              "    <tr>\n",
              "      <th id=\"T_cb148_level0_row0\" class=\"row_heading level0 row0\" >id</th>\n",
              "      <td id=\"T_cb148_row0_col0\" class=\"data row0 col0\" >1.000000</td>\n",
              "      <td id=\"T_cb148_row0_col1\" class=\"data row0 col1\" >0.003538</td>\n",
              "      <td id=\"T_cb148_row0_col2\" class=\"data row0 col2\" >0.003550</td>\n",
              "      <td id=\"T_cb148_row0_col3\" class=\"data row0 col3\" >-0.001296</td>\n",
              "      <td id=\"T_cb148_row0_col4\" class=\"data row0 col4\" >0.001092</td>\n",
              "      <td id=\"T_cb148_row0_col5\" class=\"data row0 col5\" >0.003084</td>\n",
              "      <td id=\"T_cb148_row0_col6\" class=\"data row0 col6\" >0.006388</td>\n",
              "    </tr>\n",
              "    <tr>\n",
              "      <th id=\"T_cb148_level0_row1\" class=\"row_heading level0 row1\" >age</th>\n",
              "      <td id=\"T_cb148_row1_col0\" class=\"data row1 col0\" >0.003538</td>\n",
              "      <td id=\"T_cb148_row1_col1\" class=\"data row1 col1\" >1.000000</td>\n",
              "      <td id=\"T_cb148_row1_col2\" class=\"data row1 col2\" >0.276398</td>\n",
              "      <td id=\"T_cb148_row1_col3\" class=\"data row1 col3\" >0.263796</td>\n",
              "      <td id=\"T_cb148_row1_col4\" class=\"data row1 col4\" >0.238171</td>\n",
              "      <td id=\"T_cb148_row1_col5\" class=\"data row1 col5\" >0.333398</td>\n",
              "      <td id=\"T_cb148_row1_col6\" class=\"data row1 col6\" >0.245257</td>\n",
              "    </tr>\n",
              "    <tr>\n",
              "      <th id=\"T_cb148_level0_row2\" class=\"row_heading level0 row2\" >hypertension</th>\n",
              "      <td id=\"T_cb148_row2_col0\" class=\"data row2 col0\" >0.003550</td>\n",
              "      <td id=\"T_cb148_row2_col1\" class=\"data row2 col1\" >0.276398</td>\n",
              "      <td id=\"T_cb148_row2_col2\" class=\"data row2 col2\" >1.000000</td>\n",
              "      <td id=\"T_cb148_row2_col3\" class=\"data row2 col3\" >0.108306</td>\n",
              "      <td id=\"T_cb148_row2_col4\" class=\"data row2 col4\" >0.174474</td>\n",
              "      <td id=\"T_cb148_row2_col5\" class=\"data row2 col5\" >0.167811</td>\n",
              "      <td id=\"T_cb148_row2_col6\" class=\"data row2 col6\" >0.127904</td>\n",
              "    </tr>\n",
              "    <tr>\n",
              "      <th id=\"T_cb148_level0_row3\" class=\"row_heading level0 row3\" >heart_disease</th>\n",
              "      <td id=\"T_cb148_row3_col0\" class=\"data row3 col0\" >-0.001296</td>\n",
              "      <td id=\"T_cb148_row3_col1\" class=\"data row3 col1\" >0.263796</td>\n",
              "      <td id=\"T_cb148_row3_col2\" class=\"data row3 col2\" >0.108306</td>\n",
              "      <td id=\"T_cb148_row3_col3\" class=\"data row3 col3\" >1.000000</td>\n",
              "      <td id=\"T_cb148_row3_col4\" class=\"data row3 col4\" >0.161857</td>\n",
              "      <td id=\"T_cb148_row3_col5\" class=\"data row3 col5\" >0.041357</td>\n",
              "      <td id=\"T_cb148_row3_col6\" class=\"data row3 col6\" >0.134914</td>\n",
              "    </tr>\n",
              "    <tr>\n",
              "      <th id=\"T_cb148_level0_row4\" class=\"row_heading level0 row4\" >avg_glucose_level</th>\n",
              "      <td id=\"T_cb148_row4_col0\" class=\"data row4 col0\" >0.001092</td>\n",
              "      <td id=\"T_cb148_row4_col1\" class=\"data row4 col1\" >0.238171</td>\n",
              "      <td id=\"T_cb148_row4_col2\" class=\"data row4 col2\" >0.174474</td>\n",
              "      <td id=\"T_cb148_row4_col3\" class=\"data row4 col3\" >0.161857</td>\n",
              "      <td id=\"T_cb148_row4_col4\" class=\"data row4 col4\" >1.000000</td>\n",
              "      <td id=\"T_cb148_row4_col5\" class=\"data row4 col5\" >0.175502</td>\n",
              "      <td id=\"T_cb148_row4_col6\" class=\"data row4 col6\" >0.131945</td>\n",
              "    </tr>\n",
              "    <tr>\n",
              "      <th id=\"T_cb148_level0_row5\" class=\"row_heading level0 row5\" >bmi</th>\n",
              "      <td id=\"T_cb148_row5_col0\" class=\"data row5 col0\" >0.003084</td>\n",
              "      <td id=\"T_cb148_row5_col1\" class=\"data row5 col1\" >0.333398</td>\n",
              "      <td id=\"T_cb148_row5_col2\" class=\"data row5 col2\" >0.167811</td>\n",
              "      <td id=\"T_cb148_row5_col3\" class=\"data row5 col3\" >0.041357</td>\n",
              "      <td id=\"T_cb148_row5_col4\" class=\"data row5 col4\" >0.175502</td>\n",
              "      <td id=\"T_cb148_row5_col5\" class=\"data row5 col5\" >1.000000</td>\n",
              "      <td id=\"T_cb148_row5_col6\" class=\"data row5 col6\" >0.042374</td>\n",
              "    </tr>\n",
              "    <tr>\n",
              "      <th id=\"T_cb148_level0_row6\" class=\"row_heading level0 row6\" >stroke</th>\n",
              "      <td id=\"T_cb148_row6_col0\" class=\"data row6 col0\" >0.006388</td>\n",
              "      <td id=\"T_cb148_row6_col1\" class=\"data row6 col1\" >0.245257</td>\n",
              "      <td id=\"T_cb148_row6_col2\" class=\"data row6 col2\" >0.127904</td>\n",
              "      <td id=\"T_cb148_row6_col3\" class=\"data row6 col3\" >0.134914</td>\n",
              "      <td id=\"T_cb148_row6_col4\" class=\"data row6 col4\" >0.131945</td>\n",
              "      <td id=\"T_cb148_row6_col5\" class=\"data row6 col5\" >0.042374</td>\n",
              "      <td id=\"T_cb148_row6_col6\" class=\"data row6 col6\" >1.000000</td>\n",
              "    </tr>\n",
              "  </tbody>\n",
              "</table>\n"
            ]
          },
          "metadata": {},
          "execution_count": 10
        }
      ]
    },
    {
      "cell_type": "code",
      "source": [
        "df['bmi'].hist()\n",
        "plt.xlabel('Value')\n",
        "plt.ylabel('Frequency')\n",
        "plt.title('Distribution of bmi')\n",
        "plt.show()"
      ],
      "metadata": {
        "colab": {
          "base_uri": "https://localhost:8080/",
          "height": 472
        },
        "id": "4f-j9hRUg0bf",
        "outputId": "a3462f0a-ff1e-4b3f-a8be-b8be353992ae"
      },
      "execution_count": 16,
      "outputs": [
        {
          "output_type": "display_data",
          "data": {
            "text/plain": [
              "<Figure size 640x480 with 1 Axes>"
            ],
            "image/png": "[encoded data removed]"
          },
          "metadata": {}
        }
      ]
    },
    {
      "cell_type": "code",
      "source": [
        "df['bmi'].plot.kde()\n",
        "plt.xlabel('Value')\n",
        "plt.ylabel('Density')\n",
        "plt.title('Distribution of bmi')\n",
        "plt.show()"
      ],
      "metadata": {
        "colab": {
          "base_uri": "https://localhost:8080/",
          "height": 472
        },
        "id": "efKU9KBZkGTG",
        "outputId": "85abf770-a0eb-4387-928e-15c0f37b55d9"
      },
      "execution_count": 17,
      "outputs": [
        {
          "output_type": "display_data",
          "data": {
            "text/plain": [
              "<Figure size 640x480 with 1 Axes>"
            ],
            "image/png": "[encoded data removed]"
          },
          "metadata": {}
        }
      ]
    },
    {
      "cell_type": "code",
      "source": [
        "import pandas as pd\n",
        "import numpy as np\n",
        "from sklearn.linear_model import LinearRegression\n",
        "\n",
        "\n",
        "# Choose a regression model\n",
        "model = LinearRegression()\n",
        "X = df.drop('bmi', axis=1).\n",
        "X = X.select_dtypes(include=['int64', 'float64'])\n",
        "y = df['bmi']\n",
        "\n",
        "# Train the model\n",
        "model.fit(X, y.dropna())\n",
        "\n",
        "# Predict the missing values\n",
        "df['bmi'].fillna(model.predict(X), inplace=True)\n",
        "\n",
        "# Print the dataframe\n",
        "print(df)"
      ],
      "metadata": {
        "colab": {
          "base_uri": "https://localhost:8080/",
          "height": 356
        },
        "id": "162sXvqLkP2P",
        "outputId": "3972cdca-375e-4413-d7bb-c0f6d5429615"
      },
      "execution_count": 20,
      "outputs": [
        {
          "output_type": "error",
          "ename": "ValueError",
          "evalue": "Found input variables with inconsistent numbers of samples: [5110, 4909]",
          "traceback": [
            "\u001b[0;31m---------------------------------------------------------------------------\u001b[0m",
            "\u001b[0;31mValueError\u001b[0m                                Traceback (most recent call last)",
            "\u001b[0;32m<ipython-input-20-4ae3d0ed4fa4>\u001b[0m in \u001b[0;36m<cell line: 13>\u001b[0;34m()\u001b[0m\n\u001b[1;32m     11\u001b[0m \u001b[0;34m\u001b[0m\u001b[0m\n\u001b[1;32m     12\u001b[0m \u001b[0;31m# Train the model\u001b[0m\u001b[0;34m\u001b[0m\u001b[0;34m\u001b[0m\u001b[0m\n\u001b[0;32m---> 13\u001b[0;31m \u001b[0mmodel\u001b[0m\u001b[0;34m.\u001b[0m\u001b[0mfit\u001b[0m\u001b[0;34m(\u001b[0m\u001b[0mX\u001b[0m\u001b[0;34m,\u001b[0m \u001b[0my\u001b[0m\u001b[0;34m.\u001b[0m\u001b[0mdropna\u001b[0m\u001b[0;34m(\u001b[0m\u001b[0;34m)\u001b[0m\u001b[0;34m)\u001b[0m\u001b[0;34m\u001b[0m\u001b[0;34m\u001b[0m\u001b[0m\n\u001b[0m\u001b[1;32m     14\u001b[0m \u001b[0;34m\u001b[0m\u001b[0m\n\u001b[1;32m     15\u001b[0m \u001b[0;31m# Predict the missing values\u001b[0m\u001b[0;34m\u001b[0m\u001b[0;34m\u001b[0m\u001b[0m\n",
            "\u001b[0;32m/usr/local/lib/python3.10/dist-packages/sklearn/linear_model/_base.py\u001b[0m in \u001b[0;36mfit\u001b[0;34m(self, X, y, sample_weight)\u001b[0m\n\u001b[1;32m    646\u001b[0m         \u001b[0maccept_sparse\u001b[0m \u001b[0;34m=\u001b[0m \u001b[0;32mFalse\u001b[0m \u001b[0;32mif\u001b[0m \u001b[0mself\u001b[0m\u001b[0;34m.\u001b[0m\u001b[0mpositive\u001b[0m \u001b[0;32melse\u001b[0m \u001b[0;34m[\u001b[0m\u001b[0;34m\"csr\"\u001b[0m\u001b[0;34m,\u001b[0m \u001b[0;34m\"csc\"\u001b[0m\u001b[0;34m,\u001b[0m \u001b[0;34m\"coo\"\u001b[0m\u001b[0;34m]\u001b[0m\u001b[0;34m\u001b[0m\u001b[0;34m\u001b[0m\u001b[0m\n\u001b[1;32m    647\u001b[0m \u001b[0;34m\u001b[0m\u001b[0m\n\u001b[0;32m--> 648\u001b[0;31m         X, y = self._validate_data(\n\u001b[0m\u001b[1;32m    649\u001b[0m             \u001b[0mX\u001b[0m\u001b[0;34m,\u001b[0m \u001b[0my\u001b[0m\u001b[0;34m,\u001b[0m \u001b[0maccept_sparse\u001b[0m\u001b[0;34m=\u001b[0m\u001b[0maccept_sparse\u001b[0m\u001b[0;34m,\u001b[0m \u001b[0my_numeric\u001b[0m\u001b[0;34m=\u001b[0m\u001b[0;32mTrue\u001b[0m\u001b[0;34m,\u001b[0m \u001b[0mmulti_output\u001b[0m\u001b[0;34m=\u001b[0m\u001b[0;32mTrue\u001b[0m\u001b[0;34m\u001b[0m\u001b[0;34m\u001b[0m\u001b[0m\n\u001b[1;32m    650\u001b[0m         )\n",
            "\u001b[0;32m/usr/local/lib/python3.10/dist-packages/sklearn/base.py\u001b[0m in \u001b[0;36m_validate_data\u001b[0;34m(self, X, y, reset, validate_separately, **check_params)\u001b[0m\n\u001b[1;32m    582\u001b[0m                 \u001b[0my\u001b[0m \u001b[0;34m=\u001b[0m \u001b[0mcheck_array\u001b[0m\u001b[0;34m(\u001b[0m\u001b[0my\u001b[0m\u001b[0;34m,\u001b[0m \u001b[0minput_name\u001b[0m\u001b[0;34m=\u001b[0m\u001b[0;34m\"y\"\u001b[0m\u001b[0;34m,\u001b[0m \u001b[0;34m**\u001b[0m\u001b[0mcheck_y_params\u001b[0m\u001b[0;34m)\u001b[0m\u001b[0;34m\u001b[0m\u001b[0;34m\u001b[0m\u001b[0m\n\u001b[1;32m    583\u001b[0m             \u001b[0;32melse\u001b[0m\u001b[0;34m:\u001b[0m\u001b[0;34m\u001b[0m\u001b[0;34m\u001b[0m\u001b[0m\n\u001b[0;32m--> 584\u001b[0;31m                 \u001b[0mX\u001b[0m\u001b[0;34m,\u001b[0m \u001b[0my\u001b[0m \u001b[0;34m=\u001b[0m \u001b[0mcheck_X_y\u001b[0m\u001b[0;34m(\u001b[0m\u001b[0mX\u001b[0m\u001b[0;34m,\u001b[0m \u001b[0my\u001b[0m\u001b[0;34m,\u001b[0m \u001b[0;34m**\u001b[0m\u001b[0mcheck_params\u001b[0m\u001b[0;34m)\u001b[0m\u001b[0;34m\u001b[0m\u001b[0;34m\u001b[0m\u001b[0m\n\u001b[0m\u001b[1;32m    585\u001b[0m             \u001b[0mout\u001b[0m \u001b[0;34m=\u001b[0m \u001b[0mX\u001b[0m\u001b[0;34m,\u001b[0m \u001b[0my\u001b[0m\u001b[0;34m\u001b[0m\u001b[0;34m\u001b[0m\u001b[0m\n\u001b[1;32m    586\u001b[0m \u001b[0;34m\u001b[0m\u001b[0m\n",
            "\u001b[0;32m/usr/local/lib/python3.10/dist-packages/sklearn/utils/validation.py\u001b[0m in \u001b[0;36mcheck_X_y\u001b[0;34m(X, y, accept_sparse, accept_large_sparse, dtype, order, copy, force_all_finite, ensure_2d, allow_nd, multi_output, ensure_min_samples, ensure_min_features, y_numeric, estimator)\u001b[0m\n\u001b[1;32m   1122\u001b[0m     \u001b[0my\u001b[0m \u001b[0;34m=\u001b[0m \u001b[0m_check_y\u001b[0m\u001b[0;34m(\u001b[0m\u001b[0my\u001b[0m\u001b[0;34m,\u001b[0m \u001b[0mmulti_output\u001b[0m\u001b[0;34m=\u001b[0m\u001b[0mmulti_output\u001b[0m\u001b[0;34m,\u001b[0m \u001b[0my_numeric\u001b[0m\u001b[0;34m=\u001b[0m\u001b[0my_numeric\u001b[0m\u001b[0;34m,\u001b[0m \u001b[0mestimator\u001b[0m\u001b[0;34m=\u001b[0m\u001b[0mestimator\u001b[0m\u001b[0;34m)\u001b[0m\u001b[0;34m\u001b[0m\u001b[0;34m\u001b[0m\u001b[0m\n\u001b[1;32m   1123\u001b[0m \u001b[0;34m\u001b[0m\u001b[0m\n\u001b[0;32m-> 1124\u001b[0;31m     \u001b[0mcheck_consistent_length\u001b[0m\u001b[0;34m(\u001b[0m\u001b[0mX\u001b[0m\u001b[0;34m,\u001b[0m \u001b[0my\u001b[0m\u001b[0;34m)\u001b[0m\u001b[0;34m\u001b[0m\u001b[0;34m\u001b[0m\u001b[0m\n\u001b[0m\u001b[1;32m   1125\u001b[0m \u001b[0;34m\u001b[0m\u001b[0m\n\u001b[1;32m   1126\u001b[0m     \u001b[0;32mreturn\u001b[0m \u001b[0mX\u001b[0m\u001b[0;34m,\u001b[0m \u001b[0my\u001b[0m\u001b[0;34m\u001b[0m\u001b[0;34m\u001b[0m\u001b[0m\n",
            "\u001b[0;32m/usr/local/lib/python3.10/dist-packages/sklearn/utils/validation.py\u001b[0m in \u001b[0;36mcheck_consistent_length\u001b[0;34m(*arrays)\u001b[0m\n\u001b[1;32m    395\u001b[0m     \u001b[0muniques\u001b[0m \u001b[0;34m=\u001b[0m \u001b[0mnp\u001b[0m\u001b[0;34m.\u001b[0m\u001b[0munique\u001b[0m\u001b[0;34m(\u001b[0m\u001b[0mlengths\u001b[0m\u001b[0;34m)\u001b[0m\u001b[0;34m\u001b[0m\u001b[0;34m\u001b[0m\u001b[0m\n\u001b[1;32m    396\u001b[0m     \u001b[0;32mif\u001b[0m \u001b[0mlen\u001b[0m\u001b[0;34m(\u001b[0m\u001b[0muniques\u001b[0m\u001b[0;34m)\u001b[0m \u001b[0;34m>\u001b[0m \u001b[0;36m1\u001b[0m\u001b[0;34m:\u001b[0m\u001b[0;34m\u001b[0m\u001b[0;34m\u001b[0m\u001b[0m\n\u001b[0;32m--> 397\u001b[0;31m         raise ValueError(\n\u001b[0m\u001b[1;32m    398\u001b[0m             \u001b[0;34m\"Found input variables with inconsistent numbers of samples: %r\"\u001b[0m\u001b[0;34m\u001b[0m\u001b[0;34m\u001b[0m\u001b[0m\n\u001b[1;32m    399\u001b[0m             \u001b[0;34m%\u001b[0m \u001b[0;34m[\u001b[0m\u001b[0mint\u001b[0m\u001b[0;34m(\u001b[0m\u001b[0ml\u001b[0m\u001b[0;34m)\u001b[0m \u001b[0;32mfor\u001b[0m \u001b[0ml\u001b[0m \u001b[0;32min\u001b[0m \u001b[0mlengths\u001b[0m\u001b[0;34m]\u001b[0m\u001b[0;34m\u001b[0m\u001b[0;34m\u001b[0m\u001b[0m\n",
            "\u001b[0;31mValueError\u001b[0m: Found input variables with inconsistent numbers of samples: [5110, 4909]"
          ]
        }
      ]
    },
    {
      "cell_type": "code",
      "source": [],
      "metadata": {
        "id": "isKhWanekYOx"
      },
      "execution_count": null,
      "outputs": []
    }
  ]
}